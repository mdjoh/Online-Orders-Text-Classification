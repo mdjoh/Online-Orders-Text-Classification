{
 "cells": [
  {
   "cell_type": "markdown",
   "id": "44c23786",
   "metadata": {},
   "source": [
    "## Load data"
   ]
  },
  {
   "cell_type": "code",
   "execution_count": 46,
   "id": "40a6490e",
   "metadata": {},
   "outputs": [],
   "source": [
    "import pandas as pd\n",
    "from sklearn.model_selection import train_test_split\n",
    "from sklearn.feature_extraction.text import CountVectorizer\n",
    "from sklearn.pipeline import Pipeline\n",
    "\n",
    "import warnings\n",
    "warnings.filterwarnings('ignore')"
   ]
  },
  {
   "cell_type": "code",
   "execution_count": 2,
   "id": "251fc733",
   "metadata": {},
   "outputs": [
    {
     "name": "stdout",
     "output_type": "stream",
     "text": [
      "<class 'pandas.core.frame.DataFrame'>\n",
      "RangeIndex: 11623 entries, 0 to 11622\n",
      "Data columns (total 3 columns):\n",
      " #   Column   Non-Null Count  Dtype \n",
      "---  ------   --------------  ----- \n",
      " 0   id       11623 non-null  int64 \n",
      " 1   message  11623 non-null  object\n",
      " 2   label    11623 non-null  object\n",
      "dtypes: int64(1), object(2)\n",
      "memory usage: 272.5+ KB\n",
      "None\n",
      "      id                                            message  \\\n",
      "0   8793    hi i want change my address from my credit card   \n",
      "1   3083  i need 4 fruit maple oatmeal 3 cold brew froze...   \n",
      "2   5932        i wish to travel next month domestic airway   \n",
      "3  12077                   i need reimbursement my expenses   \n",
      "4   6608              i need a copy of insurance for my car   \n",
      "\n",
      "                 label  \n",
      "0        updateaddress  \n",
      "1     orderdrinkintent  \n",
      "2           bookflight  \n",
      "3        expensereport  \n",
      "4  getproofofinsurance  \n"
     ]
    }
   ],
   "source": [
    "df = pd.read_csv(\"public_data.csv\")\n",
    "print(df.info())\n",
    "print(df.head())"
   ]
  },
  {
   "cell_type": "code",
   "execution_count": 3,
   "id": "fd35e9b6",
   "metadata": {},
   "outputs": [
    {
     "name": "stdout",
     "output_type": "stream",
     "text": [
      "(9298,)\n",
      "(9298,)\n",
      "(2325,)\n",
      "(2325,)\n"
     ]
    }
   ],
   "source": [
    "X = df['message']\n",
    "y = df['label']\n",
    "\n",
    "X_train, X_val, y_train, y_val = train_test_split(X, y, test_size=0.2, random_state=42)\n",
    "\n",
    "print(X_train.shape)\n",
    "print(y_train.shape)\n",
    "print(X_val.shape)\n",
    "print(y_val.shape)"
   ]
  },
  {
   "cell_type": "code",
   "execution_count": 4,
   "id": "cc743357",
   "metadata": {},
   "outputs": [],
   "source": [
    "import nltk\n",
    "from nltk.corpus import stopwords\n",
    "from nltk import word_tokenize\n",
    "from nltk import word_tokenize, sent_tokenize\n",
    "from nltk.corpus import stopwords\n",
    "from nltk.stem import LancasterStemmer, WordNetLemmatizer\n",
    "import unidecode\n",
    "import re"
   ]
  },
  {
   "cell_type": "code",
   "execution_count": 5,
   "id": "4887a485",
   "metadata": {},
   "outputs": [],
   "source": [
    "# Preprocessing functions\n",
    "def remove_unwanted_chars(df):\n",
    "    return df.apply(lambda x: unidecode.unidecode(x))\n",
    "\n",
    "def remove_numbers(df):\n",
    "    return df.apply(lambda x: re.sub(r'\\d+', '', x))\n",
    "\n",
    "def tokenize_message(df):\n",
    "    return df.apply(lambda x: word_tokenize(x))\n",
    "\n",
    "def remove_stopwords(df):\n",
    "    return df.apply(lambda x: [word for word in x if word not in stopwords.words('english')])\n",
    "\n",
    "def lemmatize_message(df):\n",
    "    lemmatizer = WordNetLemmatizer()\n",
    "    return df.apply(lambda x: ' '.join([lemmatizer.lemmatize(word) for word in x]))"
   ]
  },
  {
   "cell_type": "code",
   "execution_count": 6,
   "id": "0bbc344d",
   "metadata": {},
   "outputs": [],
   "source": [
    "# Make FunctionTransformers for custom preprocessing functions\n",
    "from sklearn.preprocessing import FunctionTransformer\n",
    "\n",
    "preprocess_pipe = Pipeline([('removeunwanted', FunctionTransformer(remove_unwanted_chars)),\n",
    "                            ('removenumbers', FunctionTransformer(remove_numbers)),\n",
    "                            ('tokenize', FunctionTransformer(tokenize_message)),\n",
    "                            ('removestopwords', FunctionTransformer(remove_stopwords)),\n",
    "                            ('lemmatize', FunctionTransformer(lemmatize_message))])"
   ]
  },
  {
   "cell_type": "markdown",
   "id": "7d655c38",
   "metadata": {},
   "source": [
    "## Classification model building"
   ]
  },
  {
   "cell_type": "markdown",
   "id": "0497b0f8",
   "metadata": {},
   "source": [
    "### XGBoost"
   ]
  },
  {
   "cell_type": "code",
   "execution_count": 7,
   "id": "8418e7b5",
   "metadata": {},
   "outputs": [
    {
     "name": "stdout",
     "output_type": "stream",
     "text": [
      "[14:22:31] WARNING: ..\\src\\learner.cc:1061: Starting in XGBoost 1.3.0, the default evaluation metric used with the objective 'multi:softprob' was changed from 'merror' to 'mlogloss'. Explicitly set eval_metric if you'd like to restore the old behavior.\n"
     ]
    },
    {
     "data": {
      "text/plain": [
       "Pipeline(steps=[('preprocess',\n",
       "                 Pipeline(steps=[('removeunwanted',\n",
       "                                  FunctionTransformer(func=<function remove_unwanted_chars at 0x0000018F187E9CA0>)),\n",
       "                                 ('removenumbers',\n",
       "                                  FunctionTransformer(func=<function remove_numbers at 0x0000018F187E9C10>)),\n",
       "                                 ('tokenize',\n",
       "                                  FunctionTransformer(func=<function tokenize_message at 0x0000018F187E9E50>)),\n",
       "                                 ('removestopwords',\n",
       "                                  FunctionTrans...\n",
       "                               importance_type='gain',\n",
       "                               interaction_constraints='',\n",
       "                               learning_rate=0.300000012, max_delta_step=0,\n",
       "                               max_depth=6, min_child_weight=1, missing=nan,\n",
       "                               monotone_constraints='()', n_estimators=100,\n",
       "                               n_jobs=4, num_parallel_tree=1,\n",
       "                               objective='multi:softprob', random_state=42,\n",
       "                               reg_alpha=0, reg_lambda=1, scale_pos_weight=None,\n",
       "                               subsample=1, tree_method='exact',\n",
       "                               validate_parameters=1, verbosity=None))])"
      ]
     },
     "execution_count": 7,
     "metadata": {},
     "output_type": "execute_result"
    }
   ],
   "source": [
    "from xgboost import XGBClassifier\n",
    "\n",
    "vectorizer = CountVectorizer(min_df=.01, max_df=.8, ngram_range=[1,1], max_features=300, stop_words='english')\n",
    "\n",
    "pipe = Pipeline([('preprocess', preprocess_pipe),\n",
    "                 ('vec', vectorizer),\n",
    "                 ('clf', XGBClassifier(random_state=42))])\n",
    "\n",
    "pipe.fit(X_train, y_train)"
   ]
  },
  {
   "cell_type": "markdown",
   "id": "e6d56a15",
   "metadata": {},
   "source": [
    "### Model evaluation"
   ]
  },
  {
   "cell_type": "code",
   "execution_count": 8,
   "id": "ef673807",
   "metadata": {},
   "outputs": [
    {
     "name": "stdout",
     "output_type": "stream",
     "text": [
      "[[ 41   0   0 ...   0   0   0]\n",
      " [  0   1   0 ...   0   0   0]\n",
      " [  0   0 181 ...   0   0   0]\n",
      " ...\n",
      " [  0   0   0 ...  68   0   0]\n",
      " [  0   0   1 ...   0   0   0]\n",
      " [  0   0   0 ...   0   0   7]]\n",
      "                       precision    recall  f1-score   support\n",
      "\n",
      "           bookflight       0.95      0.98      0.96        42\n",
      "          changeorder       0.50      0.20      0.29         5\n",
      " changeseatassignment       0.89      0.94      0.91       192\n",
      "         checkbalance       1.00      0.98      0.99        50\n",
      "     checkclaimstatus       1.00      0.98      0.99        90\n",
      "checkoffereligibility       0.50      1.00      0.67         6\n",
      "    checkserverstatus       0.84      0.90      0.87        30\n",
      "         closeaccount       0.82      0.70      0.76        20\n",
      "        disputecharge       0.96      0.55      0.70        42\n",
      "        expensereport       0.95      0.97      0.96        77\n",
      "      getboardingpass       1.00      1.00      1.00       114\n",
      " getinformationintent       0.86      0.78      0.82        32\n",
      "        getpromotions       0.00      0.00      0.00         3\n",
      "  getproofofinsurance       0.99      1.00      0.99       192\n",
      "     getroutingnumber       0.93      0.93      0.93        14\n",
      "          getseatinfo       0.75      0.56      0.64        48\n",
      " orderbreakfastintent       0.00      0.00      0.00         7\n",
      "    orderburgerintent       0.80      0.59      0.68        59\n",
      "          orderchecks       1.00      0.88      0.93         8\n",
      "   orderdessertintent       0.84      0.27      0.41        60\n",
      "     orderdrinkintent       0.52      0.90      0.66       151\n",
      "     orderpizzaintent       0.92      0.88      0.90       203\n",
      "     ordersaladintent       0.84      0.92      0.88        52\n",
      "      ordersideintent       0.00      0.00      0.00        23\n",
      "       providereceipt       0.33      1.00      0.50         1\n",
      "          replacecard       0.90      0.60      0.72        15\n",
      "    reportbrokenphone       1.00      0.91      0.95        69\n",
      " reportbrokensoftware       0.95      0.87      0.91        69\n",
      "       reportlostcard       0.80      0.99      0.88        73\n",
      "       softwareupdate       0.96      0.89      0.92        55\n",
      "           startorder       0.71      0.79      0.75        56\n",
      "   startserviceintent       0.97      1.00      0.98       330\n",
      "            stoporder       0.00      0.00      0.00         3\n",
      "        transfermoney       0.93      0.95      0.94        43\n",
      "        updateaddress       1.00      0.99      0.99        69\n",
      " upgradeserviceintent       0.00      0.00      0.00         5\n",
      "      viewbillsintent       0.70      0.41      0.52        17\n",
      "\n",
      "             accuracy                           0.88      2325\n",
      "            macro avg       0.73      0.71      0.70      2325\n",
      "         weighted avg       0.88      0.88      0.87      2325\n",
      "\n"
     ]
    }
   ],
   "source": [
    "from sklearn.metrics import confusion_matrix, classification_report\n",
    "\n",
    "pred_val = pipe.predict(X_val)\n",
    "print(confusion_matrix(y_val, pred_val))\n",
    "print(classification_report(y_val, pred_val))"
   ]
  },
  {
   "cell_type": "markdown",
   "id": "9fb44be9",
   "metadata": {},
   "source": [
    "### Cross-validation"
   ]
  },
  {
   "cell_type": "code",
   "execution_count": 9,
   "id": "08c1134f",
   "metadata": {},
   "outputs": [
    {
     "name": "stdout",
     "output_type": "stream",
     "text": [
      "[14:23:41] WARNING: ..\\src\\learner.cc:1061: Starting in XGBoost 1.3.0, the default evaluation metric used with the objective 'multi:softprob' was changed from 'merror' to 'mlogloss'. Explicitly set eval_metric if you'd like to restore the old behavior.\n",
      "[14:24:12] WARNING: ..\\src\\learner.cc:1061: Starting in XGBoost 1.3.0, the default evaluation metric used with the objective 'multi:softprob' was changed from 'merror' to 'mlogloss'. Explicitly set eval_metric if you'd like to restore the old behavior.\n",
      "[14:24:48] WARNING: ..\\src\\learner.cc:1061: Starting in XGBoost 1.3.0, the default evaluation metric used with the objective 'multi:softprob' was changed from 'merror' to 'mlogloss'. Explicitly set eval_metric if you'd like to restore the old behavior.\n",
      "[14:25:21] WARNING: ..\\src\\learner.cc:1061: Starting in XGBoost 1.3.0, the default evaluation metric used with the objective 'multi:softprob' was changed from 'merror' to 'mlogloss'. Explicitly set eval_metric if you'd like to restore the old behavior.\n",
      "[14:25:52] WARNING: ..\\src\\learner.cc:1061: Starting in XGBoost 1.3.0, the default evaluation metric used with the objective 'multi:softprob' was changed from 'merror' to 'mlogloss'. Explicitly set eval_metric if you'd like to restore the old behavior.\n",
      "Scores: [0.8466, 0.8487, 0.8393, 0.8455, 0.8405]\n",
      "Mean score: 0.8441\n",
      "+/-2 std. dev. range within mean: (0.8369, 0.8514)\n"
     ]
    }
   ],
   "source": [
    "from sklearn.model_selection import cross_val_score\n",
    "\n",
    "ami_scores = cross_val_score(pipe, X_train, y_train, scoring = 'adjusted_mutual_info_score', cv=5)\n",
    "\n",
    "# Calculate mean and standard deviation of scores\n",
    "avg_ami = ami_scores.mean()\n",
    "stddev_ami = ami_scores.std()\n",
    "\n",
    "# Print results\n",
    "print(\"Scores:\", [round(score, 4) for score in ami_scores])\n",
    "print(f\"Mean score: {round(avg_ami, 4)}\")\n",
    "print(f\"+/-2 std. dev. range within mean: ({avg_ami - 2*stddev_ami:.4f}, {avg_ami + 2*stddev_ami:.4f})\")"
   ]
  },
  {
   "cell_type": "code",
   "execution_count": 10,
   "id": "17a2382b",
   "metadata": {},
   "outputs": [
    {
     "name": "stdout",
     "output_type": "stream",
     "text": [
      "ARI: 0.8311191485746243\n",
      "AMI: 0.8575256181594058\n"
     ]
    }
   ],
   "source": [
    "from sklearn.metrics.cluster import adjusted_rand_score, adjusted_mutual_info_score\n",
    "\n",
    "ari = adjusted_rand_score(y_val, pred_val)\n",
    "ami = adjusted_mutual_info_score(y_val, pred_val, average_method='arithmetic')\n",
    "\n",
    "print(\"ARI: {}\".format(ari))\n",
    "print(\"AMI: {}\".format(ami))"
   ]
  },
  {
   "cell_type": "markdown",
   "id": "2988e98e",
   "metadata": {},
   "source": [
    "### CatBoost"
   ]
  },
  {
   "cell_type": "code",
   "execution_count": 23,
   "id": "7ba6cbb9",
   "metadata": {},
   "outputs": [],
   "source": [
    "catboost_params = {\n",
    "    'iterations': 3000,\n",
    "    'learning_rate': 0.01,\n",
    "    'verbose': 500,\n",
    "    'random_state': 42\n",
    "}"
   ]
  },
  {
   "cell_type": "code",
   "execution_count": 24,
   "id": "9ff60167",
   "metadata": {},
   "outputs": [
    {
     "name": "stdout",
     "output_type": "stream",
     "text": [
      "0:\tlearn: 3.5009771\ttotal: 58.9ms\tremaining: 2m 56s\n",
      "500:\tlearn: 0.8793580\ttotal: 29.5s\tremaining: 2m 27s\n",
      "1000:\tlearn: 0.6219616\ttotal: 1m\tremaining: 2m 1s\n",
      "1500:\tlearn: 0.5250558\ttotal: 1m 29s\tremaining: 1m 29s\n",
      "2000:\tlearn: 0.4803688\ttotal: 1m 58s\tremaining: 59.4s\n",
      "2500:\tlearn: 0.4542069\ttotal: 2m 28s\tremaining: 29.6s\n",
      "2999:\tlearn: 0.4368748\ttotal: 2m 57s\tremaining: 0us\n"
     ]
    },
    {
     "data": {
      "text/plain": [
       "Pipeline(steps=[('preprocess',\n",
       "                 Pipeline(steps=[('removeunwanted',\n",
       "                                  FunctionTransformer(func=<function remove_unwanted_chars at 0x0000018F187E9CA0>)),\n",
       "                                 ('removenumbers',\n",
       "                                  FunctionTransformer(func=<function remove_numbers at 0x0000018F187E9C10>)),\n",
       "                                 ('tokenize',\n",
       "                                  FunctionTransformer(func=<function tokenize_message at 0x0000018F187E9E50>)),\n",
       "                                 ('removestopwords',\n",
       "                                  FunctionTransformer(func=<function remove_stopwords at 0x0000018F187E9EE0>)),\n",
       "                                 ('lemmatize',\n",
       "                                  FunctionTransformer(func=<function lemmatize_message at 0x0000018F187E9F70>))])),\n",
       "                ('vec',\n",
       "                 CountVectorizer(max_df=0.8, max_features=300, min_df=0.01,\n",
       "                                 ngram_range=[1, 1], stop_words='english')),\n",
       "                ('clf',\n",
       "                 <catboost.core.CatBoostClassifier object at 0x0000018F192538E0>)])"
      ]
     },
     "execution_count": 24,
     "metadata": {},
     "output_type": "execute_result"
    }
   ],
   "source": [
    "from catboost import CatBoostClassifier\n",
    "\n",
    "vectorizer = CountVectorizer(min_df=.01, max_df=.8, ngram_range=[1,1], max_features=300, stop_words='english')\n",
    "\n",
    "pipe = Pipeline([('preprocess', preprocess_pipe),\n",
    "                 ('vec', vectorizer),\n",
    "                 ('clf', CatBoostClassifier(**catboost_params))])\n",
    "\n",
    "pipe.fit(X_train, y_train)"
   ]
  },
  {
   "cell_type": "markdown",
   "id": "77d7e21f",
   "metadata": {},
   "source": [
    "### Model evaluation"
   ]
  },
  {
   "cell_type": "code",
   "execution_count": 42,
   "id": "fae70da0",
   "metadata": {},
   "outputs": [
    {
     "name": "stdout",
     "output_type": "stream",
     "text": [
      "[[ 41   0   0 ...   0   0   0]\n",
      " [  0   1   0 ...   0   0   0]\n",
      " [  0   0 180 ...   2   0   2]\n",
      " ...\n",
      " [  0   0   0 ...  68   0   0]\n",
      " [  0   0   0 ...   1   0   0]\n",
      " [  0   0   0 ...   0   0   4]]\n",
      "                       precision    recall  f1-score   support\n",
      "\n",
      "           bookflight       0.95      0.98      0.96        42\n",
      "          changeorder       0.50      0.20      0.29         5\n",
      " changeseatassignment       0.89      0.94      0.91       192\n",
      "         checkbalance       0.94      0.98      0.96        50\n",
      "     checkclaimstatus       1.00      0.98      0.99        90\n",
      "checkoffereligibility       0.55      1.00      0.71         6\n",
      "    checkserverstatus       0.87      0.90      0.89        30\n",
      "         closeaccount       0.88      0.70      0.78        20\n",
      "        disputecharge       0.95      0.45      0.61        42\n",
      "        expensereport       0.97      0.96      0.97        77\n",
      "      getboardingpass       1.00      1.00      1.00       114\n",
      " getinformationintent       0.89      0.75      0.81        32\n",
      "        getpromotions       0.00      0.00      0.00         3\n",
      "  getproofofinsurance       0.99      0.98      0.99       192\n",
      "     getroutingnumber       0.93      0.93      0.93        14\n",
      "          getseatinfo       0.81      0.54      0.65        48\n",
      " orderbreakfastintent       0.00      0.00      0.00         7\n",
      "    orderburgerintent       0.79      0.58      0.67        59\n",
      "          orderchecks       1.00      0.88      0.93         8\n",
      "   orderdessertintent       0.85      0.28      0.42        60\n",
      "     orderdrinkintent       0.48      0.95      0.63       151\n",
      "     orderpizzaintent       0.94      0.89      0.91       203\n",
      "     ordersaladintent       0.86      0.92      0.89        52\n",
      "      ordersideintent       0.00      0.00      0.00        23\n",
      "       providereceipt       0.00      0.00      0.00         1\n",
      "          replacecard       0.90      0.60      0.72        15\n",
      "    reportbrokenphone       1.00      0.91      0.95        69\n",
      " reportbrokensoftware       0.95      0.86      0.90        69\n",
      "       reportlostcard       0.77      0.99      0.87        73\n",
      "       softwareupdate       0.91      0.95      0.93        55\n",
      "           startorder       0.95      0.68      0.79        56\n",
      "   startserviceintent       0.96      1.00      0.98       330\n",
      "            stoporder       0.00      0.00      0.00         3\n",
      "        transfermoney       0.95      0.95      0.95        43\n",
      "        updateaddress       0.94      0.99      0.96        69\n",
      " upgradeserviceintent       0.00      0.00      0.00         5\n",
      "      viewbillsintent       0.57      0.24      0.33        17\n",
      "\n",
      "             accuracy                           0.87      2325\n",
      "            macro avg       0.73      0.67      0.68      2325\n",
      "         weighted avg       0.88      0.87      0.86      2325\n",
      "\n"
     ]
    }
   ],
   "source": [
    "from sklearn.metrics import confusion_matrix, classification_report\n",
    "\n",
    "pred_val = pipe.predict(X_val)\n",
    "pred_val = pred_val.reshape(-1)\n",
    "print(confusion_matrix(y_val, pred_val))\n",
    "print(classification_report(y_val, pred_val))"
   ]
  },
  {
   "cell_type": "markdown",
   "id": "dfdf6363",
   "metadata": {},
   "source": [
    "### Cross-validation"
   ]
  },
  {
   "cell_type": "code",
   "execution_count": 26,
   "id": "9c8bdb21",
   "metadata": {},
   "outputs": [
    {
     "name": "stdout",
     "output_type": "stream",
     "text": [
      "0:\tlearn: 3.5026492\ttotal: 44.4ms\tremaining: 2m 13s\n",
      "500:\tlearn: 0.8959569\ttotal: 22.9s\tremaining: 1m 54s\n",
      "1000:\tlearn: 0.6337431\ttotal: 45.5s\tremaining: 1m 30s\n",
      "1500:\tlearn: 0.5356966\ttotal: 1m 8s\tremaining: 1m 7s\n",
      "2000:\tlearn: 0.4888768\ttotal: 1m 30s\tremaining: 45s\n",
      "2500:\tlearn: 0.4619300\ttotal: 1m 52s\tremaining: 22.5s\n",
      "2999:\tlearn: 0.4432763\ttotal: 2m 15s\tremaining: 0us\n",
      "0:\tlearn: 3.5030591\ttotal: 47.6ms\tremaining: 2m 22s\n",
      "500:\tlearn: 0.8922016\ttotal: 23.5s\tremaining: 1m 57s\n",
      "1000:\tlearn: 0.6283730\ttotal: 46.7s\tremaining: 1m 33s\n",
      "1500:\tlearn: 0.5339347\ttotal: 1m 9s\tremaining: 1m 9s\n",
      "2000:\tlearn: 0.4890037\ttotal: 1m 33s\tremaining: 46.4s\n",
      "2500:\tlearn: 0.4620658\ttotal: 1m 56s\tremaining: 23.3s\n",
      "2999:\tlearn: 0.4432200\ttotal: 2m 19s\tremaining: 0us\n",
      "0:\tlearn: 3.5022505\ttotal: 44.9ms\tremaining: 2m 14s\n",
      "500:\tlearn: 0.8918655\ttotal: 22.2s\tremaining: 1m 50s\n",
      "1000:\tlearn: 0.6354472\ttotal: 44.3s\tremaining: 1m 28s\n",
      "1500:\tlearn: 0.5392623\ttotal: 1m 6s\tremaining: 1m 6s\n",
      "2000:\tlearn: 0.4929177\ttotal: 1m 28s\tremaining: 44.4s\n",
      "2500:\tlearn: 0.4650160\ttotal: 1m 55s\tremaining: 23.1s\n",
      "2999:\tlearn: 0.4459518\ttotal: 2m 18s\tremaining: 0us\n",
      "0:\tlearn: 3.5074986\ttotal: 45.2ms\tremaining: 2m 15s\n",
      "500:\tlearn: 0.8977654\ttotal: 22.9s\tremaining: 1m 54s\n",
      "1000:\tlearn: 0.6414010\ttotal: 45.1s\tremaining: 1m 30s\n",
      "1500:\tlearn: 0.5454437\ttotal: 1m 7s\tremaining: 1m 7s\n",
      "2000:\tlearn: 0.4996348\ttotal: 1m 30s\tremaining: 45.1s\n",
      "2500:\tlearn: 0.4724552\ttotal: 1m 52s\tremaining: 22.5s\n",
      "2999:\tlearn: 0.4540989\ttotal: 2m 15s\tremaining: 0us\n",
      "0:\tlearn: 3.5009720\ttotal: 45.3ms\tremaining: 2m 15s\n",
      "500:\tlearn: 0.8885237\ttotal: 22.1s\tremaining: 1m 50s\n",
      "1000:\tlearn: 0.6282799\ttotal: 44.1s\tremaining: 1m 28s\n",
      "1500:\tlearn: 0.5301647\ttotal: 1m 6s\tremaining: 1m 5s\n",
      "2000:\tlearn: 0.4831704\ttotal: 1m 28s\tremaining: 44.2s\n",
      "2500:\tlearn: 0.4558044\ttotal: 1m 50s\tremaining: 22.1s\n",
      "2999:\tlearn: 0.4373010\ttotal: 2m 13s\tremaining: 0us\n",
      "Scores: [nan, nan, nan, nan, nan]\n",
      "Mean score: nan\n",
      "+/-2 std. dev. range within mean: (nan, nan)\n"
     ]
    }
   ],
   "source": [
    "from sklearn.model_selection import cross_val_score\n",
    "\n",
    "ami_scores = cross_val_score(pipe, X_train, y_train, scoring='adjusted_mutual_info_score', cv=5)\n",
    "\n",
    "# Calculate mean and standard deviation of scores\n",
    "avg_ami = ami_scores.mean()\n",
    "stddev_ami = ami_scores.std()\n",
    "\n",
    "# Print results\n",
    "print(\"Scores:\", [round(score, 4) for score in ami_scores])\n",
    "print(f\"Mean score: {round(avg_ami, 4)}\")\n",
    "print(f\"+/-2 std. dev. range within mean: ({avg_ami - 2*stddev_ami:.4f}, {avg_ami + 2*stddev_ami:.4f})\")"
   ]
  },
  {
   "cell_type": "code",
   "execution_count": 43,
   "id": "4b300323",
   "metadata": {},
   "outputs": [
    {
     "name": "stdout",
     "output_type": "stream",
     "text": [
      "ARI: 0.809362104906277\n",
      "AMI: 0.8562792951515682\n"
     ]
    }
   ],
   "source": [
    "from sklearn.metrics.cluster import adjusted_rand_score, adjusted_mutual_info_score\n",
    "\n",
    "ari = adjusted_rand_score(y_val, pred_val)\n",
    "ami = adjusted_mutual_info_score(y_val, pred_val, average_method='arithmetic')\n",
    "\n",
    "print(\"ARI: {}\".format(ari))\n",
    "print(\"AMI: {}\".format(ami))"
   ]
  },
  {
   "cell_type": "markdown",
   "id": "9842f8be",
   "metadata": {},
   "source": [
    "## LGBM"
   ]
  },
  {
   "cell_type": "markdown",
   "id": "8924998a",
   "metadata": {},
   "source": [
    "https://stackoverflow.com/questions/50250432/python-lightgbm-text-classicication-with-tfidf"
   ]
  },
  {
   "cell_type": "code",
   "execution_count": 7,
   "id": "aa81e7dd",
   "metadata": {},
   "outputs": [],
   "source": [
    "from sklearn import preprocessing\n",
    "\n",
    "le = preprocessing.LabelEncoder()\n",
    "y_train_transformed = le.fit_transform(y_train)\n",
    "y_train_transformed = y_train_transformed.astype('float32')"
   ]
  },
  {
   "cell_type": "code",
   "execution_count": 21,
   "id": "1ba60c21",
   "metadata": {},
   "outputs": [],
   "source": [
    "def change_to_float64(x):\n",
    "    return x.astype('float64')"
   ]
  },
  {
   "cell_type": "code",
   "execution_count": 39,
   "id": "49d4a289",
   "metadata": {},
   "outputs": [
    {
     "data": {
      "text/plain": [
       "Pipeline(steps=[('preprocess',\n",
       "                 Pipeline(steps=[('removeunwanted',\n",
       "                                  FunctionTransformer(func=<function remove_unwanted_chars at 0x000002064579CDC0>)),\n",
       "                                 ('removenumbers',\n",
       "                                  FunctionTransformer(func=<function remove_numbers at 0x000002064579CD30>)),\n",
       "                                 ('tokenize',\n",
       "                                  FunctionTransformer(func=<function tokenize_message at 0x000002064579CF70>)),\n",
       "                                 ('removestopwords',\n",
       "                                  FunctionTrans...e_stopwords at 0x00000206457AE040>)),\n",
       "                                 ('lemmatize',\n",
       "                                  FunctionTransformer(func=<function lemmatize_message at 0x00000206457AE0D0>))])),\n",
       "                ('vec',\n",
       "                 CountVectorizer(max_df=0.8, max_features=300, min_df=0.01,\n",
       "                                 ngram_range=[1, 1], stop_words='english')),\n",
       "                ('changetofloat64',\n",
       "                 FunctionTransformer(func=<function change_to_float64 at 0x0000020646D4D040>)),\n",
       "                ('clf', LGBMClassifier())])"
      ]
     },
     "execution_count": 39,
     "metadata": {},
     "output_type": "execute_result"
    }
   ],
   "source": [
    "from lightgbm import LGBMClassifier\n",
    "\n",
    "vectorizer = CountVectorizer(min_df=.01, max_df=.8, ngram_range=[1,1], max_features=300, stop_words='english')\n",
    "\n",
    "pipe = Pipeline([('preprocess', preprocess_pipe),\n",
    "                 ('vec', vectorizer),\n",
    "                 ('changetofloat64', FunctionTransformer(change_to_float64)),\n",
    "                 ('clf', LGBMClassifier())])\n",
    "\n",
    "pipe.fit(X_train, y_train_transformed)"
   ]
  },
  {
   "cell_type": "markdown",
   "id": "290a167b",
   "metadata": {},
   "source": [
    "### Model evaluation"
   ]
  },
  {
   "cell_type": "code",
   "execution_count": 40,
   "id": "684c3b9c",
   "metadata": {},
   "outputs": [
    {
     "name": "stdout",
     "output_type": "stream",
     "text": [
      "[[0 0 0 ... 0 0 0]\n",
      " [0 0 0 ... 0 0 0]\n",
      " [0 0 0 ... 0 0 0]\n",
      " ...\n",
      " [0 0 0 ... 0 0 0]\n",
      " [0 0 0 ... 0 0 0]\n",
      " [0 0 0 ... 0 0 1]]\n",
      "                       precision    recall  f1-score   support\n",
      "\n",
      "           bookflight       0.00      0.00      0.00        42\n",
      "          changeorder       0.00      0.00      0.00         5\n",
      " changeseatassignment       0.00      0.00      0.00       192\n",
      "         checkbalance       0.00      0.00      0.00        50\n",
      "     checkclaimstatus       0.17      0.04      0.07        90\n",
      "checkoffereligibility       0.00      0.00      0.00         6\n",
      "    checkserverstatus       0.00      0.00      0.00        30\n",
      "         closeaccount       0.00      0.00      0.00        20\n",
      "        disputecharge       0.00      0.00      0.00        42\n",
      "        expensereport       0.00      0.00      0.00        77\n",
      "      getboardingpass       0.00      0.00      0.00       114\n",
      " getinformationintent       0.00      0.00      0.00        32\n",
      "        getpromotions       0.00      0.00      0.00         3\n",
      "  getproofofinsurance       0.00      0.00      0.00       192\n",
      "     getroutingnumber       0.00      0.00      0.00        14\n",
      "          getseatinfo       0.00      0.00      0.00        48\n",
      " orderbreakfastintent       0.00      0.00      0.00         7\n",
      "    orderburgerintent       0.00      0.00      0.00        59\n",
      "          orderchecks       0.00      0.00      0.00         8\n",
      "   orderdessertintent       0.00      0.00      0.00        60\n",
      "     orderdrinkintent       0.00      0.00      0.00       151\n",
      "     orderpizzaintent       0.09      0.97      0.16       203\n",
      "     ordersaladintent       0.00      0.00      0.00        52\n",
      "      ordersideintent       0.00      0.00      0.00        23\n",
      "       providereceipt       0.00      0.00      0.00         1\n",
      "          replacecard       0.00      0.00      0.00        15\n",
      "    reportbrokenphone       0.00      0.00      0.00        69\n",
      " reportbrokensoftware       0.00      0.00      0.00        69\n",
      "       reportlostcard       0.31      0.07      0.11        73\n",
      "       softwareupdate       0.00      0.00      0.00        55\n",
      "           startorder       0.00      0.00      0.00        56\n",
      "   startserviceintent       0.00      0.00      0.00       330\n",
      "            stoporder       0.00      0.00      0.00         3\n",
      "        transfermoney       0.00      0.00      0.00        43\n",
      "        updateaddress       0.00      0.00      0.00        69\n",
      " upgradeserviceintent       0.00      0.00      0.00         5\n",
      "      viewbillsintent       0.14      0.06      0.08        17\n",
      "\n",
      "             accuracy                           0.09      2325\n",
      "            macro avg       0.02      0.03      0.01      2325\n",
      "         weighted avg       0.03      0.09      0.02      2325\n",
      "\n"
     ]
    }
   ],
   "source": [
    "from sklearn.metrics import confusion_matrix, classification_report\n",
    "\n",
    "# Convert predictions back to classifcations in text from encoded labels for LGBM\n",
    "pred_val = pipe.predict(X_val)\n",
    "pred_val = pred_val.astype('int32')\n",
    "pred_val = le.inverse_transform(pred_val)\n",
    "\n",
    "print(confusion_matrix(y_val, pred_val))\n",
    "print(classification_report(y_val, pred_val))"
   ]
  },
  {
   "cell_type": "markdown",
   "id": "2236c1d1",
   "metadata": {},
   "source": [
    "### Cross-validation"
   ]
  },
  {
   "cell_type": "code",
   "execution_count": 41,
   "id": "68dfa570",
   "metadata": {},
   "outputs": [
    {
     "name": "stdout",
     "output_type": "stream",
     "text": [
      "Scores: [0.1068, 0.2075, 0.8298, 0.8394, 0.8396]\n",
      "Mean score: 0.5646\n",
      "+/-2 std. dev. range within mean: (-0.1039, 1.2331)\n"
     ]
    }
   ],
   "source": [
    "from sklearn.model_selection import cross_val_score\n",
    "\n",
    "ami_scores = cross_val_score(pipe, X_train, y_train, scoring='adjusted_mutual_info_score', cv=5)\n",
    "\n",
    "# Calculate mean and standard deviation of scores\n",
    "avg_ami = ami_scores.mean()\n",
    "stddev_ami = ami_scores.std()\n",
    "\n",
    "# Print results\n",
    "print(\"Scores:\", [round(score, 4) for score in ami_scores])\n",
    "print(f\"Mean score: {round(avg_ami, 4)}\")\n",
    "print(f\"+/-2 std. dev. range within mean: ({avg_ami - 2*stddev_ami:.4f}, {avg_ami + 2*stddev_ami:.4f})\")"
   ]
  },
  {
   "cell_type": "code",
   "execution_count": 42,
   "id": "de3b6720",
   "metadata": {},
   "outputs": [
    {
     "name": "stdout",
     "output_type": "stream",
     "text": [
      "ARI: 0.0009016941096306044\n",
      "AMI: 0.019671861169584\n"
     ]
    }
   ],
   "source": [
    "from sklearn.metrics.cluster import adjusted_rand_score, adjusted_mutual_info_score\n",
    "\n",
    "ari = adjusted_rand_score(y_val, pred_val)\n",
    "ami = adjusted_mutual_info_score(y_val, pred_val, average_method='arithmetic')\n",
    "\n",
    "print(\"ARI: {}\".format(ari))\n",
    "print(\"AMI: {}\".format(ami))"
   ]
  },
  {
   "cell_type": "markdown",
   "id": "1f83469a",
   "metadata": {},
   "source": [
    "## Predictions on test data"
   ]
  },
  {
   "cell_type": "code",
   "execution_count": 34,
   "id": "b40e14d3",
   "metadata": {},
   "outputs": [
    {
     "name": "stdout",
     "output_type": "stream",
     "text": [
      "<class 'pandas.core.frame.DataFrame'>\n",
      "RangeIndex: 2906 entries, 0 to 2905\n",
      "Data columns (total 2 columns):\n",
      " #   Column   Non-Null Count  Dtype \n",
      "---  ------   --------------  ----- \n",
      " 0   id       2906 non-null   int64 \n",
      " 1   message  2906 non-null   object\n",
      "dtypes: int64(1), object(1)\n",
      "memory usage: 45.5+ KB\n"
     ]
    },
    {
     "data": {
      "text/html": [
       "<div>\n",
       "<style scoped>\n",
       "    .dataframe tbody tr th:only-of-type {\n",
       "        vertical-align: middle;\n",
       "    }\n",
       "\n",
       "    .dataframe tbody tr th {\n",
       "        vertical-align: top;\n",
       "    }\n",
       "\n",
       "    .dataframe thead th {\n",
       "        text-align: right;\n",
       "    }\n",
       "</style>\n",
       "<table border=\"1\" class=\"dataframe\">\n",
       "  <thead>\n",
       "    <tr style=\"text-align: right;\">\n",
       "      <th></th>\n",
       "      <th>id</th>\n",
       "      <th>message</th>\n",
       "    </tr>\n",
       "  </thead>\n",
       "  <tbody>\n",
       "    <tr>\n",
       "      <th>0</th>\n",
       "      <td>12123</td>\n",
       "      <td>i have problem in excel</td>\n",
       "    </tr>\n",
       "    <tr>\n",
       "      <th>1</th>\n",
       "      <td>244</td>\n",
       "      <td>i need \\t pesto drizzle over grilled chicken c...</td>\n",
       "    </tr>\n",
       "    <tr>\n",
       "      <th>2</th>\n",
       "      <td>8221</td>\n",
       "      <td>need to help order a new card as the old one e...</td>\n",
       "    </tr>\n",
       "    <tr>\n",
       "      <th>3</th>\n",
       "      <td>12856</td>\n",
       "      <td>i need internet plan</td>\n",
       "    </tr>\n",
       "    <tr>\n",
       "      <th>4</th>\n",
       "      <td>12108</td>\n",
       "      <td>my are report travel</td>\n",
       "    </tr>\n",
       "  </tbody>\n",
       "</table>\n",
       "</div>"
      ],
      "text/plain": [
       "      id                                            message\n",
       "0  12123                            i have problem in excel\n",
       "1    244  i need \\t pesto drizzle over grilled chicken c...\n",
       "2   8221  need to help order a new card as the old one e...\n",
       "3  12856                               i need internet plan\n",
       "4  12108                               my are report travel"
      ]
     },
     "execution_count": 34,
     "metadata": {},
     "output_type": "execute_result"
    }
   ],
   "source": [
    "df_test = pd.read_csv('input_data.csv')\n",
    "df_test.info()\n",
    "df_test.head()"
   ]
  },
  {
   "cell_type": "code",
   "execution_count": 43,
   "id": "65eb1cf8",
   "metadata": {},
   "outputs": [],
   "source": [
    "pred_test = pipe.predict(df_test['message'])"
   ]
  },
  {
   "cell_type": "code",
   "execution_count": 44,
   "id": "7172c28c",
   "metadata": {},
   "outputs": [],
   "source": [
    "# Convert predictions back to classifcations in text from encoded labels for LGBM\n",
    "pred_test = pred_test.astype('int32')\n",
    "pred_test = le.inverse_transform(pred_test)"
   ]
  },
  {
   "cell_type": "code",
   "execution_count": 38,
   "id": "def846b2",
   "metadata": {},
   "outputs": [],
   "source": [
    "pred_test = pred_test.reshape(-1) # reshape to 1D for predictions with Catboost model"
   ]
  },
  {
   "cell_type": "code",
   "execution_count": 45,
   "id": "743204a8",
   "metadata": {},
   "outputs": [
    {
     "name": "stdout",
     "output_type": "stream",
     "text": [
      "      Id             label\n",
      "0  12123  orderpizzaintent\n",
      "1    244  orderpizzaintent\n",
      "2   8221  orderpizzaintent\n",
      "3  12856  orderpizzaintent\n",
      "4  12108  orderpizzaintent\n"
     ]
    }
   ],
   "source": [
    "my_submission = pd.DataFrame({'Id': df_test['id'], 'label': pred_test})\n",
    "print(my_submission.head())"
   ]
  },
  {
   "cell_type": "code",
   "execution_count": null,
   "id": "76233f32",
   "metadata": {},
   "outputs": [],
   "source": [
    "compression_opts = dict(method='zip', archive_name='coda_submission.csv')\n",
    "my_submission.to_csv('coda_submission.zip', index=False, compression=compression_opts)"
   ]
  }
 ],
 "metadata": {
  "kernelspec": {
   "display_name": "Python 3 (ipykernel)",
   "language": "python",
   "name": "python3"
  },
  "language_info": {
   "codemirror_mode": {
    "name": "ipython",
    "version": 3
   },
   "file_extension": ".py",
   "mimetype": "text/x-python",
   "name": "python",
   "nbconvert_exporter": "python",
   "pygments_lexer": "ipython3",
   "version": "3.8.8"
  }
 },
 "nbformat": 4,
 "nbformat_minor": 5
}
