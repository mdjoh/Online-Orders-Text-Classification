{
 "cells": [
  {
   "cell_type": "markdown",
   "id": "44c23786",
   "metadata": {},
   "source": [
    "## Load data"
   ]
  },
  {
   "cell_type": "code",
   "execution_count": 1,
   "id": "93b09eac",
   "metadata": {},
   "outputs": [],
   "source": [
    "import pandas as pd\n",
    "from sklearn.model_selection import train_test_split\n",
    "from sklearn.feature_extraction.text import CountVectorizer\n",
    "from sklearn.pipeline import Pipeline"
   ]
  },
  {
   "cell_type": "code",
   "execution_count": 2,
   "id": "579436f5",
   "metadata": {},
   "outputs": [
    {
     "name": "stdout",
     "output_type": "stream",
     "text": [
      "<class 'pandas.core.frame.DataFrame'>\n",
      "RangeIndex: 11623 entries, 0 to 11622\n",
      "Data columns (total 3 columns):\n",
      " #   Column   Non-Null Count  Dtype \n",
      "---  ------   --------------  ----- \n",
      " 0   id       11623 non-null  int64 \n",
      " 1   message  11623 non-null  object\n",
      " 2   label    11623 non-null  object\n",
      "dtypes: int64(1), object(2)\n",
      "memory usage: 272.5+ KB\n",
      "None\n",
      "      id                                            message  \\\n",
      "0   8793    hi i want change my address from my credit card   \n",
      "1   3083  i need 4 fruit maple oatmeal 3 cold brew froze...   \n",
      "2   5932        i wish to travel next month domestic airway   \n",
      "3  12077                   i need reimbursement my expenses   \n",
      "4   6608              i need a copy of insurance for my car   \n",
      "\n",
      "                 label  \n",
      "0        updateaddress  \n",
      "1     orderdrinkintent  \n",
      "2           bookflight  \n",
      "3        expensereport  \n",
      "4  getproofofinsurance  \n"
     ]
    }
   ],
   "source": [
    "df = pd.read_csv(\"public_data.csv\")\n",
    "print(df.info())\n",
    "print(df.head())"
   ]
  },
  {
   "cell_type": "code",
   "execution_count": 3,
   "id": "bc986107",
   "metadata": {},
   "outputs": [
    {
     "name": "stdout",
     "output_type": "stream",
     "text": [
      "(9298,)\n",
      "(9298,)\n",
      "(2325,)\n",
      "(2325,)\n"
     ]
    }
   ],
   "source": [
    "X = df['message']\n",
    "y = df['label']\n",
    "\n",
    "X_train, X_val, y_train, y_val = train_test_split(X, y, test_size=0.2, random_state=42)\n",
    "\n",
    "print(X_train.shape)\n",
    "print(y_train.shape)\n",
    "print(X_val.shape)\n",
    "print(y_val.shape)"
   ]
  },
  {
   "cell_type": "markdown",
   "id": "a67574ed",
   "metadata": {},
   "source": [
    "## Text cleaning and preprocessing"
   ]
  },
  {
   "cell_type": "code",
   "execution_count": 4,
   "id": "3450f3ec",
   "metadata": {},
   "outputs": [],
   "source": [
    "import nltk\n",
    "from nltk.corpus import stopwords\n",
    "from nltk import word_tokenize\n",
    "from nltk import word_tokenize, sent_tokenize\n",
    "from nltk.corpus import stopwords\n",
    "from nltk.stem import LancasterStemmer, WordNetLemmatizer\n",
    "import unidecode\n",
    "import re"
   ]
  },
  {
   "cell_type": "code",
   "execution_count": 13,
   "id": "9cd2c82a",
   "metadata": {},
   "outputs": [],
   "source": [
    "# remove weird characters from messages\n",
    "import unidecode\n",
    "X_train = X_train.apply(lambda x: unidecode.unidecode(x))"
   ]
  },
  {
   "cell_type": "code",
   "execution_count": 14,
   "id": "31059712",
   "metadata": {},
   "outputs": [],
   "source": [
    "# remove numbers from messages\n",
    "import re\n",
    "X_train = X_train.apply(lambda x: re.sub(r'\\d+', '', x))"
   ]
  },
  {
   "cell_type": "code",
   "execution_count": 15,
   "id": "1096234d",
   "metadata": {},
   "outputs": [],
   "source": [
    "# tokenize messages\n",
    "#nltk.download('punkt')\n",
    "X_train_tokens = X_train.apply(lambda x: word_tokenize(x))"
   ]
  },
  {
   "cell_type": "code",
   "execution_count": 16,
   "id": "2a3d313a",
   "metadata": {},
   "outputs": [],
   "source": [
    "# remove stopwords\n",
    "#nltk.download('stopwords')\n",
    "\n",
    "X_train_tokens = X_train_tokens.apply(lambda x: [word for word in x if word not in stopwords.words('english')])"
   ]
  },
  {
   "cell_type": "code",
   "execution_count": 17,
   "id": "07ea3b9e",
   "metadata": {},
   "outputs": [],
   "source": [
    "# lemmatize words\n",
    "#nltk.download('wordnet')\n",
    "\n",
    "lemmatizer = WordNetLemmatizer()\n",
    "X_train = X_train_tokens.apply(lambda x: ' '.join([lemmatizer.lemmatize(word) for word in x]))"
   ]
  },
  {
   "cell_type": "code",
   "execution_count": 5,
   "id": "3e4b9a4f",
   "metadata": {},
   "outputs": [],
   "source": [
    "# Preprocessing functions\n",
    "def remove_unwanted_chars(df):\n",
    "    return df.apply(lambda x: unidecode.unidecode(x))\n",
    "\n",
    "def remove_numbers(df):\n",
    "    return df.apply(lambda x: re.sub(r'\\d+', '', x))\n",
    "\n",
    "def tokenize_message(df):\n",
    "    return df.apply(lambda x: word_tokenize(x))\n",
    "\n",
    "def remove_stopwords(df):\n",
    "    return df.apply(lambda x: [word for word in x if word not in stopwords.words('english')])\n",
    "\n",
    "def lemmatize_message(df):\n",
    "    lemmatizer = WordNetLemmatizer()\n",
    "    return df.apply(lambda x: ' '.join([lemmatizer.lemmatize(word) for word in x]))"
   ]
  },
  {
   "cell_type": "code",
   "execution_count": 6,
   "id": "8d5bc9c9",
   "metadata": {},
   "outputs": [],
   "source": [
    "# Make FunctionTransformers for custom preprocessing functions\n",
    "from sklearn.preprocessing import FunctionTransformer\n",
    "\n",
    "remove_unwanted_transformer = FunctionTransformer(remove_unwanted_chars)\n",
    "remove_numbers_transformer = FunctionTransformer(remove_numbers)\n",
    "tokenize_transformer = FunctionTransformer(tokenize_message)\n",
    "remove_stopwords_transformer = FunctionTransformer(remove_stopwords)\n",
    "lemmatize_transformer = FunctionTransformer(lemmatize_message)"
   ]
  },
  {
   "cell_type": "code",
   "execution_count": 7,
   "id": "1c31e511",
   "metadata": {},
   "outputs": [],
   "source": [
    "preprocess_pipe = Pipeline([('removeunwanted', remove_unwanted_transformer),\n",
    "                            ('removenumbers', remove_numbers_transformer),\n",
    "                            ('tokenize', tokenize_transformer),\n",
    "                            ('removestopwords', remove_stopwords_transformer),\n",
    "                            ('lemmatize', lemmatize_transformer)])"
   ]
  },
  {
   "cell_type": "code",
   "execution_count": 10,
   "id": "2c78cfbf",
   "metadata": {},
   "outputs": [],
   "source": [
    "transformed_X = preprocess_pipe.transform(X)"
   ]
  },
  {
   "cell_type": "code",
   "execution_count": 11,
   "id": "c4b93361",
   "metadata": {},
   "outputs": [
    {
     "data": {
      "text/plain": [
       "0                      hi want change address credit card\n",
       "1        need fruit maple oatmeal cold brew frozen coffee\n",
       "2                  wish travel next month domestic airway\n",
       "3                              need reimbursement expense\n",
       "4                                 need copy insurance car\n",
       "                               ...                       \n",
       "11618        boarding pas sent email address phone number\n",
       "11619                                  need ticker bombay\n",
       "11620                              want musical equipment\n",
       "11621                                    need window seat\n",
       "11622                       please money transfer account\n",
       "Name: message, Length: 11623, dtype: object"
      ]
     },
     "execution_count": 11,
     "metadata": {},
     "output_type": "execute_result"
    }
   ],
   "source": [
    "transformed_X"
   ]
  },
  {
   "cell_type": "code",
   "execution_count": 18,
   "id": "64dce805",
   "metadata": {},
   "outputs": [
    {
     "data": {
      "text/plain": [
       "3315     credit card missed please close card\n",
       "11372                       need boarding pas\n",
       "7985                 need proof insurance car\n",
       "4075                      want change address\n",
       "8127            hi want check seat assignemnt\n",
       "                         ...                 \n",
       "11284                        want new service\n",
       "5191                         check cable bill\n",
       "5390                           want know seat\n",
       "860                         need agua frescas\n",
       "7270                         need change seat\n",
       "Name: message, Length: 9298, dtype: object"
      ]
     },
     "execution_count": 18,
     "metadata": {},
     "output_type": "execute_result"
    }
   ],
   "source": [
    "X_train"
   ]
  },
  {
   "cell_type": "code",
   "execution_count": 8,
   "id": "4f6bbed1",
   "metadata": {},
   "outputs": [
    {
     "data": {
      "text/plain": [
       "3315     credit card missed please close card\n",
       "11372                       need boarding pas\n",
       "7985                 need proof insurance car\n",
       "4075                      want change address\n",
       "8127            hi want check seat assignemnt\n",
       "                         ...                 \n",
       "11284                        want new service\n",
       "5191                         check cable bill\n",
       "5390                           want know seat\n",
       "860                         need agua frescas\n",
       "7270                         need change seat\n",
       "Name: message, Length: 9298, dtype: object"
      ]
     },
     "execution_count": 8,
     "metadata": {},
     "output_type": "execute_result"
    }
   ],
   "source": [
    "transformed_X_train = preprocess_pipe.transform(X_train)\n",
    "transformed_X_train"
   ]
  },
  {
   "cell_type": "code",
   "execution_count": 19,
   "id": "13b35e7b",
   "metadata": {},
   "outputs": [
    {
     "data": {
      "text/plain": [
       "'need agua frescas'"
      ]
     },
     "execution_count": 19,
     "metadata": {},
     "output_type": "execute_result"
    }
   ],
   "source": [
    "transformed_X[860]"
   ]
  },
  {
   "cell_type": "code",
   "execution_count": 12,
   "id": "4bbf199c",
   "metadata": {},
   "outputs": [
    {
     "data": {
      "text/plain": [
       "0          hi i want change my address from my credit card\n",
       "1        i need 4 fruit maple oatmeal 3 cold brew froze...\n",
       "2              i wish to travel next month domestic airway\n",
       "3                         i need reimbursement my expenses\n",
       "4                    i need a copy of insurance for my car\n",
       "                               ...                        \n",
       "11618    boarding pass to be sent to your email address...\n",
       "11619                             i need ticker for bombay\n",
       "11620                             i want musical equipment\n",
       "11621                                   i need window seat\n",
       "11622                please money transfer from my account\n",
       "Name: message, Length: 11623, dtype: object"
      ]
     },
     "execution_count": 12,
     "metadata": {},
     "output_type": "execute_result"
    }
   ],
   "source": [
    "X"
   ]
  },
  {
   "cell_type": "markdown",
   "id": "7d655c38",
   "metadata": {},
   "source": [
    "## Classification model building"
   ]
  },
  {
   "cell_type": "code",
   "execution_count": 11,
   "id": "9be1653e",
   "metadata": {},
   "outputs": [
    {
     "data": {
      "text/plain": [
       "Pipeline(steps=[('preprocess',\n",
       "                 Pipeline(steps=[('removeunwanted',\n",
       "                                  FunctionTransformer(func=<function remove_unwanted_chars at 0x0000027C0FCB7D30>)),\n",
       "                                 ('removenumbers',\n",
       "                                  FunctionTransformer(func=<function remove_numbers at 0x0000027C0FCB7CA0>)),\n",
       "                                 ('tokenize',\n",
       "                                  FunctionTransformer(func=<function tokenize_message at 0x0000027C0FCB7EE0>)),\n",
       "                                 ('removestopwords',\n",
       "                                  FunctionTransformer(func=<function remove_stopwords at 0x0000027C0FCB7F70>)),\n",
       "                                 ('lemmatize',\n",
       "                                  FunctionTransformer(func=<function lemmatize_message at 0x0000027C0FCC3040>))])),\n",
       "                ('vec',\n",
       "                 CountVectorizer(max_df=0.8, max_features=300, min_df=0.01,\n",
       "                                 ngram_range=[1, 1], stop_words='english')),\n",
       "                ('clf',\n",
       "                 RandomForestClassifier(n_estimators=200, n_jobs=-1,\n",
       "                                        random_state=42))])"
      ]
     },
     "execution_count": 11,
     "metadata": {},
     "output_type": "execute_result"
    }
   ],
   "source": [
    "from sklearn.ensemble import RandomForestClassifier\n",
    "\n",
    "vectorizer = CountVectorizer(min_df=.01, max_df=.8, ngram_range=[1,1], max_features=300, stop_words='english')\n",
    "\n",
    "pipe = Pipeline([('preprocess', preprocess_pipe),\n",
    "                 ('vec', vectorizer),\n",
    "                 ('clf', RandomForestClassifier(n_estimators=200, n_jobs=-1, random_state=42))])\n",
    "\n",
    "pipe.fit(X_train, y_train)"
   ]
  },
  {
   "cell_type": "code",
   "execution_count": 15,
   "id": "138bbc10",
   "metadata": {},
   "outputs": [
    {
     "data": {
      "text/plain": [
       "Pipeline(steps=[('vec',\n",
       "                 CountVectorizer(max_df=0.8, max_features=300, min_df=0.01,\n",
       "                                 ngram_range=[1, 1], stop_words='english')),\n",
       "                ('clf',\n",
       "                 RandomForestClassifier(n_estimators=200, n_jobs=-1,\n",
       "                                        random_state=42))])"
      ]
     },
     "execution_count": 15,
     "metadata": {},
     "output_type": "execute_result"
    }
   ],
   "source": [
    "from sklearn.ensemble import RandomForestClassifier\n",
    "\n",
    "vectorizer = CountVectorizer(min_df=.01, max_df=.8, ngram_range=[1,1], max_features=300, stop_words='english')\n",
    "\n",
    "pipe = Pipeline([('vec', vectorizer),  ('clf', RandomForestClassifier(n_estimators=200, n_jobs=-1, random_state=42))])\n",
    "\n",
    "pipe.fit(X_train, y_train)"
   ]
  },
  {
   "cell_type": "markdown",
   "id": "7b29ac21",
   "metadata": {},
   "source": [
    "### Model evaluation"
   ]
  },
  {
   "cell_type": "code",
   "execution_count": 11,
   "id": "bd6473e6",
   "metadata": {},
   "outputs": [],
   "source": [
    "X_val = X_val.apply(lambda x: unidecode.unidecode(x))\n",
    "X_val = X_val.apply(lambda x: re.sub(r'\\d+', '', x))\n",
    "X_val = X_val.apply(lambda x: word_tokenize(x))\n",
    "X_val = X_val.apply(lambda x: [word for word in x if word not in stopwords.words('english')])\n",
    "X_val = X_val.apply(lambda x: ' '.join([lemmatizer.lemmatize(word) for word in x]))"
   ]
  },
  {
   "cell_type": "code",
   "execution_count": 12,
   "id": "1cbdd653",
   "metadata": {},
   "outputs": [
    {
     "name": "stdout",
     "output_type": "stream",
     "text": [
      "[[ 41   0   0 ...   0   0   0]\n",
      " [  0   1   0 ...   0   0   0]\n",
      " [  0   0 180 ...   0   0   0]\n",
      " ...\n",
      " [  0   0   0 ...  69   0   0]\n",
      " [  1   0   1 ...   0   0   0]\n",
      " [  0   0   0 ...   0   0   7]]\n",
      "                       precision    recall  f1-score   support\n",
      "\n",
      "           bookflight       0.91      0.98      0.94        42\n",
      "          changeorder       0.50      0.20      0.29         5\n",
      " changeseatassignment       0.90      0.94      0.92       192\n",
      "         checkbalance       0.92      0.98      0.95        50\n",
      "     checkclaimstatus       1.00      0.98      0.99        90\n",
      "checkoffereligibility       0.50      1.00      0.67         6\n",
      "    checkserverstatus       0.84      0.90      0.87        30\n",
      "         closeaccount       0.88      0.75      0.81        20\n",
      "        disputecharge       0.90      0.45      0.60        42\n",
      "        expensereport       0.97      0.97      0.97        77\n",
      "      getboardingpass       1.00      1.00      1.00       114\n",
      " getinformationintent       0.86      0.75      0.80        32\n",
      "        getpromotions       0.00      0.00      0.00         3\n",
      "  getproofofinsurance       0.99      1.00      0.99       192\n",
      "     getroutingnumber       0.93      0.93      0.93        14\n",
      "          getseatinfo       0.72      0.60      0.66        48\n",
      " orderbreakfastintent       0.00      0.00      0.00         7\n",
      "    orderburgerintent       0.82      0.56      0.67        59\n",
      "          orderchecks       1.00      0.62      0.77         8\n",
      "   orderdessertintent       0.86      0.30      0.44        60\n",
      "     orderdrinkintent       0.55      0.85      0.67       151\n",
      "     orderpizzaintent       0.85      0.93      0.89       203\n",
      "     ordersaladintent       0.83      0.92      0.87        52\n",
      "      ordersideintent       0.00      0.00      0.00        23\n",
      "       providereceipt       0.33      1.00      0.50         1\n",
      "          replacecard       1.00      0.60      0.75        15\n",
      "    reportbrokenphone       1.00      0.91      0.95        69\n",
      " reportbrokensoftware       0.95      0.88      0.92        69\n",
      "       reportlostcard       0.82      1.00      0.90        73\n",
      "       softwareupdate       0.98      0.93      0.95        55\n",
      "           startorder       0.67      0.79      0.72        56\n",
      "   startserviceintent       0.97      0.99      0.98       330\n",
      "            stoporder       0.00      0.00      0.00         3\n",
      "        transfermoney       0.93      0.95      0.94        43\n",
      "        updateaddress       0.99      1.00      0.99        69\n",
      " upgradeserviceintent       0.00      0.00      0.00         5\n",
      "      viewbillsintent       0.70      0.41      0.52        17\n",
      "\n",
      "             accuracy                           0.88      2325\n",
      "            macro avg       0.73      0.71      0.70      2325\n",
      "         weighted avg       0.88      0.88      0.87      2325\n",
      "\n"
     ]
    },
    {
     "name": "stderr",
     "output_type": "stream",
     "text": [
      "C:\\Users\\Marchiano\\anaconda3\\lib\\site-packages\\sklearn\\metrics\\_classification.py:1248: UndefinedMetricWarning: Precision and F-score are ill-defined and being set to 0.0 in labels with no predicted samples. Use `zero_division` parameter to control this behavior.\n",
      "  _warn_prf(average, modifier, msg_start, len(result))\n",
      "C:\\Users\\Marchiano\\anaconda3\\lib\\site-packages\\sklearn\\metrics\\_classification.py:1248: UndefinedMetricWarning: Precision and F-score are ill-defined and being set to 0.0 in labels with no predicted samples. Use `zero_division` parameter to control this behavior.\n",
      "  _warn_prf(average, modifier, msg_start, len(result))\n",
      "C:\\Users\\Marchiano\\anaconda3\\lib\\site-packages\\sklearn\\metrics\\_classification.py:1248: UndefinedMetricWarning: Precision and F-score are ill-defined and being set to 0.0 in labels with no predicted samples. Use `zero_division` parameter to control this behavior.\n",
      "  _warn_prf(average, modifier, msg_start, len(result))\n"
     ]
    }
   ],
   "source": [
    "from sklearn.metrics import confusion_matrix, classification_report\n",
    "\n",
    "pred_val = pipe.predict(X_val)\n",
    "print(confusion_matrix(y_val, pred_val))\n",
    "print(classification_report(y_val, pred_val))"
   ]
  },
  {
   "cell_type": "markdown",
   "id": "66eac59e",
   "metadata": {},
   "source": [
    "### Cross-validation"
   ]
  },
  {
   "cell_type": "code",
   "execution_count": 17,
   "id": "b4d8f091",
   "metadata": {},
   "outputs": [
    {
     "name": "stdout",
     "output_type": "stream",
     "text": [
      "Scores: [0.8463, 0.8465, 0.8352, 0.8366, 0.8455]\n",
      "Mean score: 0.842\n",
      "+/-2 std. dev. range within mean: (0.8320, 0.8521)\n"
     ]
    }
   ],
   "source": [
    "from sklearn.model_selection import cross_val_score\n",
    "\n",
    "ami_scores = cross_val_score(pipe, X_train, y_train, scoring = 'adjusted_mutual_info_score', cv=5)\n",
    "\n",
    "# Calculate mean and standard deviation of scores\n",
    "avg_ami = ami_scores.mean()\n",
    "stddev_ami = ami_scores.std()\n",
    "\n",
    "# Print results\n",
    "print(\"Scores:\", [round(score, 4) for score in ami_scores])\n",
    "print(f\"Mean score: {round(avg_ami, 4)}\")\n",
    "print(f\"+/-2 std. dev. range within mean: ({avg_ami - 2*stddev_ami:.4f}, {avg_ami + 2*stddev_ami:.4f})\")"
   ]
  },
  {
   "cell_type": "code",
   "execution_count": 13,
   "id": "f9b63698",
   "metadata": {},
   "outputs": [
    {
     "name": "stdout",
     "output_type": "stream",
     "text": [
      "Scores: [0.8463, 0.8465, 0.8352, 0.8366, 0.8455]\n",
      "Mean score: 0.842\n",
      "+/-2 std. dev. range within mean: (0.8320, 0.8521)\n"
     ]
    }
   ],
   "source": [
    "from sklearn.model_selection import cross_val_score\n",
    "\n",
    "ami_scores = cross_val_score(pipe, X_train, y_train, scoring = 'adjusted_mutual_info_score', cv=5)\n",
    "\n",
    "# Calculate mean and standard deviation of scores\n",
    "avg_ami = ami_scores.mean()\n",
    "stddev_ami = ami_scores.std()\n",
    "\n",
    "# Print results\n",
    "print(\"Scores:\", [round(score, 4) for score in ami_scores])\n",
    "print(f\"Mean score: {round(avg_ami, 4)}\")\n",
    "print(f\"+/-2 std. dev. range within mean: ({avg_ami - 2*stddev_ami:.4f}, {avg_ami + 2*stddev_ami:.4f})\")"
   ]
  },
  {
   "cell_type": "code",
   "execution_count": 14,
   "id": "798d300b",
   "metadata": {},
   "outputs": [
    {
     "name": "stdout",
     "output_type": "stream",
     "text": [
      "ARI: 0.8379420744646501\n",
      "AMI: 0.8559183800359201\n"
     ]
    }
   ],
   "source": [
    "from sklearn.metrics.cluster import adjusted_rand_score, adjusted_mutual_info_score\n",
    "\n",
    "ari = adjusted_rand_score(y_val, pred_val)\n",
    "ami = adjusted_mutual_info_score(y_val, pred_val, average_method='arithmetic')\n",
    "\n",
    "print(\"ARI: {}\".format(ari))\n",
    "print(\"AMI: {}\".format(ami))"
   ]
  },
  {
   "cell_type": "markdown",
   "id": "1f83469a",
   "metadata": {},
   "source": [
    "## Predictions on test data"
   ]
  },
  {
   "cell_type": "code",
   "execution_count": 15,
   "id": "b40e14d3",
   "metadata": {},
   "outputs": [
    {
     "name": "stdout",
     "output_type": "stream",
     "text": [
      "<class 'pandas.core.frame.DataFrame'>\n",
      "RangeIndex: 2906 entries, 0 to 2905\n",
      "Data columns (total 2 columns):\n",
      " #   Column   Non-Null Count  Dtype \n",
      "---  ------   --------------  ----- \n",
      " 0   id       2906 non-null   int64 \n",
      " 1   message  2906 non-null   object\n",
      "dtypes: int64(1), object(1)\n",
      "memory usage: 45.5+ KB\n"
     ]
    },
    {
     "data": {
      "text/html": [
       "<div>\n",
       "<style scoped>\n",
       "    .dataframe tbody tr th:only-of-type {\n",
       "        vertical-align: middle;\n",
       "    }\n",
       "\n",
       "    .dataframe tbody tr th {\n",
       "        vertical-align: top;\n",
       "    }\n",
       "\n",
       "    .dataframe thead th {\n",
       "        text-align: right;\n",
       "    }\n",
       "</style>\n",
       "<table border=\"1\" class=\"dataframe\">\n",
       "  <thead>\n",
       "    <tr style=\"text-align: right;\">\n",
       "      <th></th>\n",
       "      <th>id</th>\n",
       "      <th>message</th>\n",
       "    </tr>\n",
       "  </thead>\n",
       "  <tbody>\n",
       "    <tr>\n",
       "      <th>0</th>\n",
       "      <td>12123</td>\n",
       "      <td>i have problem in excel</td>\n",
       "    </tr>\n",
       "    <tr>\n",
       "      <th>1</th>\n",
       "      <td>244</td>\n",
       "      <td>i need \\t pesto drizzle over grilled chicken c...</td>\n",
       "    </tr>\n",
       "    <tr>\n",
       "      <th>2</th>\n",
       "      <td>8221</td>\n",
       "      <td>need to help order a new card as the old one e...</td>\n",
       "    </tr>\n",
       "    <tr>\n",
       "      <th>3</th>\n",
       "      <td>12856</td>\n",
       "      <td>i need internet plan</td>\n",
       "    </tr>\n",
       "    <tr>\n",
       "      <th>4</th>\n",
       "      <td>12108</td>\n",
       "      <td>my are report travel</td>\n",
       "    </tr>\n",
       "  </tbody>\n",
       "</table>\n",
       "</div>"
      ],
      "text/plain": [
       "      id                                            message\n",
       "0  12123                            i have problem in excel\n",
       "1    244  i need \\t pesto drizzle over grilled chicken c...\n",
       "2   8221  need to help order a new card as the old one e...\n",
       "3  12856                               i need internet plan\n",
       "4  12108                               my are report travel"
      ]
     },
     "execution_count": 15,
     "metadata": {},
     "output_type": "execute_result"
    }
   ],
   "source": [
    "df_test = pd.read_csv('input_data.csv')\n",
    "df_test.info()\n",
    "df_test.head()"
   ]
  },
  {
   "cell_type": "code",
   "execution_count": 16,
   "id": "65eb1cf8",
   "metadata": {},
   "outputs": [],
   "source": [
    "#X_test = df_test['message']\n",
    "pred_test = pipe.predict(df_test['message'])"
   ]
  },
  {
   "cell_type": "code",
   "execution_count": 17,
   "id": "743204a8",
   "metadata": {},
   "outputs": [
    {
     "name": "stdout",
     "output_type": "stream",
     "text": [
      "      Id               label\n",
      "0  12123    orderdrinkintent\n",
      "1    244   orderburgerintent\n",
      "2   8221         replacecard\n",
      "3  12856  startserviceintent\n",
      "4  12108       expensereport\n"
     ]
    }
   ],
   "source": [
    "my_submission = pd.DataFrame({'Id': df_test['id'], 'label': pred_test})\n",
    "print(my_submission.head())"
   ]
  },
  {
   "cell_type": "code",
   "execution_count": 18,
   "id": "5541b092",
   "metadata": {},
   "outputs": [],
   "source": [
    "my_submission.to_csv('coda_submission.csv', index=False)\n",
    "# REMEMBER TO ZIP csv file BEFORE SUBMITTING!!!"
   ]
  },
  {
   "cell_type": "code",
   "execution_count": 19,
   "id": "872189a0",
   "metadata": {},
   "outputs": [],
   "source": [
    "from zipfile import ZipFile\n",
    "\n",
    "zipObj = ZipFile('coda_submission.zip', 'w')\n",
    "zipObj.write('coda_submission.csv')\n",
    "zipObj.close()"
   ]
  },
  {
   "cell_type": "code",
   "execution_count": null,
   "id": "7569d0e5",
   "metadata": {},
   "outputs": [],
   "source": []
  },
  {
   "cell_type": "code",
   "execution_count": null,
   "id": "5625e4fc",
   "metadata": {},
   "outputs": [],
   "source": []
  }
 ],
 "metadata": {
  "kernelspec": {
   "display_name": "Python 3 (ipykernel)",
   "language": "python",
   "name": "python3"
  },
  "language_info": {
   "codemirror_mode": {
    "name": "ipython",
    "version": 3
   },
   "file_extension": ".py",
   "mimetype": "text/x-python",
   "name": "python",
   "nbconvert_exporter": "python",
   "pygments_lexer": "ipython3",
   "version": "3.8.8"
  }
 },
 "nbformat": 4,
 "nbformat_minor": 5
}
