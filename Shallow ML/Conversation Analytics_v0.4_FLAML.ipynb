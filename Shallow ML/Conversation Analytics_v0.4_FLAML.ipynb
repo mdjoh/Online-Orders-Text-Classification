{
 "cells": [
  {
   "cell_type": "markdown",
   "id": "44c23786",
   "metadata": {},
   "source": [
    "## Load data"
   ]
  },
  {
   "cell_type": "code",
   "execution_count": 1,
   "id": "d22fc7d5",
   "metadata": {},
   "outputs": [],
   "source": [
    "import pandas as pd\n",
    "from sklearn.model_selection import train_test_split\n",
    "from sklearn.feature_extraction.text import TfidfVectorizer\n",
    "from sklearn.pipeline import Pipeline\n",
    "\n",
    "import warnings\n",
    "warnings.filterwarnings('ignore')"
   ]
  },
  {
   "cell_type": "code",
   "execution_count": 2,
   "id": "be9e3a84",
   "metadata": {},
   "outputs": [
    {
     "name": "stdout",
     "output_type": "stream",
     "text": [
      "<class 'pandas.core.frame.DataFrame'>\n",
      "RangeIndex: 11623 entries, 0 to 11622\n",
      "Data columns (total 3 columns):\n",
      " #   Column   Non-Null Count  Dtype \n",
      "---  ------   --------------  ----- \n",
      " 0   id       11623 non-null  int64 \n",
      " 1   message  11623 non-null  object\n",
      " 2   label    11623 non-null  object\n",
      "dtypes: int64(1), object(2)\n",
      "memory usage: 272.5+ KB\n",
      "None\n",
      "      id                                            message  \\\n",
      "0   8793    hi i want change my address from my credit card   \n",
      "1   3083  i need 4 fruit maple oatmeal 3 cold brew froze...   \n",
      "2   5932        i wish to travel next month domestic airway   \n",
      "3  12077                   i need reimbursement my expenses   \n",
      "4   6608              i need a copy of insurance for my car   \n",
      "\n",
      "                 label  \n",
      "0        updateaddress  \n",
      "1     orderdrinkintent  \n",
      "2           bookflight  \n",
      "3        expensereport  \n",
      "4  getproofofinsurance  \n"
     ]
    }
   ],
   "source": [
    "df = pd.read_csv(\"public_data.csv\")\n",
    "print(df.info())\n",
    "print(df.head())"
   ]
  },
  {
   "cell_type": "code",
   "execution_count": 3,
   "id": "f13be252",
   "metadata": {},
   "outputs": [
    {
     "name": "stdout",
     "output_type": "stream",
     "text": [
      "(9298,)\n",
      "(9298,)\n",
      "(2325,)\n",
      "(2325,)\n"
     ]
    }
   ],
   "source": [
    "X = df['message']\n",
    "y = df['label']\n",
    "\n",
    "X_train, X_val, y_train, y_val = train_test_split(X, y, test_size=0.2, random_state=42)\n",
    "\n",
    "print(X_train.shape)\n",
    "print(y_train.shape)\n",
    "print(X_val.shape)\n",
    "print(y_val.shape)"
   ]
  },
  {
   "cell_type": "code",
   "execution_count": 4,
   "id": "673e461a",
   "metadata": {},
   "outputs": [],
   "source": [
    "import nltk\n",
    "from nltk.corpus import stopwords\n",
    "from nltk import word_tokenize\n",
    "from nltk import word_tokenize, sent_tokenize\n",
    "from nltk.corpus import stopwords\n",
    "from nltk.stem import LancasterStemmer, WordNetLemmatizer\n",
    "import unidecode\n",
    "import re"
   ]
  },
  {
   "cell_type": "code",
   "execution_count": 5,
   "id": "b7a119f0",
   "metadata": {},
   "outputs": [],
   "source": [
    "# Preprocessing functions\n",
    "def remove_unwanted_chars(df):\n",
    "    return df.apply(lambda x: unidecode.unidecode(x))\n",
    "\n",
    "def remove_numbers(df):\n",
    "    return df.apply(lambda x: re.sub(r'\\d+', '', x))\n",
    "\n",
    "def tokenize_message(df):\n",
    "    return df.apply(lambda x: word_tokenize(x))\n",
    "\n",
    "def remove_stopwords(df):\n",
    "    return df.apply(lambda x: [word for word in x if word not in stopwords.words('english')])\n",
    "\n",
    "def lemmatize_message(df):\n",
    "    lemmatizer = WordNetLemmatizer()\n",
    "    return df.apply(lambda x: ' '.join([lemmatizer.lemmatize(word) for word in x]))"
   ]
  },
  {
   "cell_type": "code",
   "execution_count": 6,
   "id": "2701e05b",
   "metadata": {},
   "outputs": [],
   "source": [
    "# Make FunctionTransformers for custom preprocessing functions\n",
    "from sklearn.preprocessing import FunctionTransformer\n",
    "\n",
    "preprocess_pipe = Pipeline([('removeunwanted', FunctionTransformer(remove_unwanted_chars)),\n",
    "                            ('removenumbers', FunctionTransformer(remove_numbers)),\n",
    "                            ('tokenize', FunctionTransformer(tokenize_message)),\n",
    "                            ('removestopwords', FunctionTransformer(remove_stopwords)),\n",
    "                            ('lemmatize', FunctionTransformer(lemmatize_message))])"
   ]
  },
  {
   "cell_type": "markdown",
   "id": "7d655c38",
   "metadata": {},
   "source": [
    "## Classification model building"
   ]
  },
  {
   "cell_type": "code",
   "execution_count": 7,
   "id": "6b7f25c1",
   "metadata": {},
   "outputs": [],
   "source": [
    "def change_to_float64(x):\n",
    "    return x.astype('float64')"
   ]
  },
  {
   "cell_type": "code",
   "execution_count": 49,
   "id": "c288ac7f",
   "metadata": {},
   "outputs": [],
   "source": [
    "vectorizer = TfidfVectorizer(min_df=.01, max_df=.8, ngram_range=[1,1], max_features=300, stop_words='english')\n",
    "\n",
    "pipe = Pipeline([('preprocess', preprocess_pipe),\n",
    "                 ('vec', vectorizer),\n",
    "                 ('changetofloat64', FunctionTransformer(change_to_float64))])\n",
    "\n",
    "X_train_transformed = pipe.fit_transform(X_train)"
   ]
  },
  {
   "cell_type": "code",
   "execution_count": 50,
   "id": "ad75efe6",
   "metadata": {},
   "outputs": [],
   "source": [
    "from sklearn import preprocessing\n",
    "\n",
    "le = preprocessing.LabelEncoder()\n",
    "y_train_transformed = le.fit_transform(y_train)\n",
    "y_train_transformed = y_train_transformed.astype('float32')"
   ]
  },
  {
   "cell_type": "markdown",
   "id": "d49154b0",
   "metadata": {},
   "source": [
    "### FLAML"
   ]
  },
  {
   "cell_type": "code",
   "execution_count": 59,
   "id": "1a3e180a",
   "metadata": {},
   "outputs": [
    {
     "name": "stderr",
     "output_type": "stream",
     "text": [
      "[flaml.automl: 04-10 19:55:18] {1926} INFO - task = classification\n",
      "[flaml.automl: 04-10 19:55:18] {1928} INFO - Data split method: stratified\n",
      "[flaml.automl: 04-10 19:55:18] {1932} INFO - Evaluation method: cv\n",
      "[flaml.automl: 04-10 19:55:18] {973} INFO - class 12.0 augmented from 7 to 21\n",
      "[flaml.automl: 04-10 19:55:18] {973} INFO - class 24.0 augmented from 12 to 24\n",
      "[flaml.automl: 04-10 19:55:18] {973} INFO - class 32.0 augmented from 7 to 21\n",
      "[flaml.automl: 04-10 19:55:18] {973} INFO - class 35.0 augmented from 7 to 21\n",
      "[flaml.automl: 04-10 19:55:18] {1999} INFO - Minimizing error metric: log_loss\n",
      "[flaml.automl: 04-10 19:55:18] {2051} INFO - List of ML learners in AutoML Run: ['lrl1']\n",
      "[flaml.automl: 04-10 19:55:18] {2291} INFO - iteration 0, current learner lrl1\n",
      "[flaml.automl: 04-10 19:55:33] {2404} INFO - Estimated sufficient time budget=145636s. Estimated necessary time budget=146s.\n",
      "[flaml.automl: 04-10 19:55:33] {2479} INFO -  at 14.6s,\testimator lrl1's best error=0.4875,\tbest estimator lrl1's best error=0.4875\n",
      "[flaml.automl: 04-10 19:55:33] {2291} INFO - iteration 1, current learner lrl1\n",
      "[flaml.automl: 04-10 19:55:44] {2479} INFO -  at 25.9s,\testimator lrl1's best error=0.4875,\tbest estimator lrl1's best error=0.4875\n",
      "[flaml.automl: 04-10 19:55:44] {2291} INFO - iteration 2, current learner lrl1\n",
      "[flaml.automl: 04-10 19:56:01] {2479} INFO -  at 42.8s,\testimator lrl1's best error=0.4601,\tbest estimator lrl1's best error=0.4601\n",
      "[flaml.automl: 04-10 19:56:01] {2291} INFO - iteration 3, current learner lrl1\n",
      "[flaml.automl: 04-10 19:56:13] {2479} INFO -  at 54.3s,\testimator lrl1's best error=0.4601,\tbest estimator lrl1's best error=0.4601\n",
      "[flaml.automl: 04-10 19:56:13] {2291} INFO - iteration 4, current learner lrl1\n",
      "[flaml.automl: 04-10 19:56:38] {2479} INFO -  at 79.7s,\testimator lrl1's best error=0.4601,\tbest estimator lrl1's best error=0.4601\n",
      "[flaml.automl: 04-10 19:56:38] {2291} INFO - iteration 5, current learner lrl1\n",
      "[flaml.automl: 04-10 19:57:01] {2479} INFO -  at 102.5s,\testimator lrl1's best error=0.4601,\tbest estimator lrl1's best error=0.4601\n",
      "[flaml.automl: 04-10 19:57:01] {2291} INFO - iteration 6, current learner lrl1\n",
      "[flaml.automl: 04-10 19:57:15] {2479} INFO -  at 116.9s,\testimator lrl1's best error=0.4601,\tbest estimator lrl1's best error=0.4601\n",
      "[flaml.automl: 04-10 19:57:15] {2291} INFO - iteration 7, current learner lrl1\n",
      "[flaml.automl: 04-10 19:57:30] {2479} INFO -  at 131.7s,\testimator lrl1's best error=0.4601,\tbest estimator lrl1's best error=0.4601\n",
      "[flaml.automl: 04-10 19:57:30] {2291} INFO - iteration 8, current learner lrl1\n",
      "[flaml.automl: 04-10 19:57:54] {2479} INFO -  at 155.4s,\testimator lrl1's best error=0.4601,\tbest estimator lrl1's best error=0.4601\n",
      "[flaml.automl: 04-10 19:57:54] {2291} INFO - iteration 9, current learner lrl1\n",
      "[flaml.automl: 04-10 19:58:17] {2479} INFO -  at 178.5s,\testimator lrl1's best error=0.4601,\tbest estimator lrl1's best error=0.4601\n",
      "[flaml.automl: 04-10 19:58:17] {2291} INFO - iteration 10, current learner lrl1\n",
      "[flaml.automl: 04-10 19:58:32] {2479} INFO -  at 193.3s,\testimator lrl1's best error=0.4601,\tbest estimator lrl1's best error=0.4601\n",
      "[flaml.automl: 04-10 19:58:32] {2291} INFO - iteration 11, current learner lrl1\n",
      "[flaml.automl: 04-10 19:58:47] {2479} INFO -  at 208.3s,\testimator lrl1's best error=0.4601,\tbest estimator lrl1's best error=0.4601\n",
      "[flaml.automl: 04-10 19:58:47] {2291} INFO - iteration 12, current learner lrl1\n",
      "[flaml.automl: 04-10 19:59:10] {2479} INFO -  at 231.8s,\testimator lrl1's best error=0.4601,\tbest estimator lrl1's best error=0.4601\n",
      "[flaml.automl: 04-10 19:59:10] {2291} INFO - iteration 13, current learner lrl1\n",
      "[flaml.automl: 04-10 19:59:26] {2479} INFO -  at 247.3s,\testimator lrl1's best error=0.4601,\tbest estimator lrl1's best error=0.4601\n",
      "[flaml.automl: 04-10 19:59:26] {2291} INFO - iteration 14, current learner lrl1\n",
      "[flaml.automl: 04-10 19:59:49] {2479} INFO -  at 270.2s,\testimator lrl1's best error=0.4601,\tbest estimator lrl1's best error=0.4601\n",
      "[flaml.automl: 04-10 19:59:49] {2291} INFO - iteration 15, current learner lrl1\n",
      "[flaml.automl: 04-10 20:00:11] {2479} INFO -  at 292.1s,\testimator lrl1's best error=0.4601,\tbest estimator lrl1's best error=0.4601\n",
      "[flaml.automl: 04-10 20:00:11] {2291} INFO - iteration 16, current learner lrl1\n",
      "[flaml.automl: 04-10 20:00:33] {2479} INFO -  at 314.3s,\testimator lrl1's best error=0.4601,\tbest estimator lrl1's best error=0.4601\n",
      "[flaml.automl: 04-10 20:00:33] {2291} INFO - iteration 17, current learner lrl1\n",
      "[flaml.automl: 04-10 20:00:47] {2479} INFO -  at 328.5s,\testimator lrl1's best error=0.4601,\tbest estimator lrl1's best error=0.4601\n",
      "[flaml.automl: 04-10 20:00:47] {2291} INFO - iteration 18, current learner lrl1\n",
      "[flaml.automl: 04-10 20:01:01] {2479} INFO -  at 342.6s,\testimator lrl1's best error=0.4601,\tbest estimator lrl1's best error=0.4601\n",
      "[flaml.automl: 04-10 20:01:01] {2291} INFO - iteration 19, current learner lrl1\n",
      "[flaml.automl: 04-10 20:01:23] {2479} INFO -  at 364.8s,\testimator lrl1's best error=0.4601,\tbest estimator lrl1's best error=0.4601\n",
      "[flaml.automl: 04-10 20:01:23] {2291} INFO - iteration 20, current learner lrl1\n",
      "[flaml.automl: 04-10 20:01:39] {2479} INFO -  at 380.7s,\testimator lrl1's best error=0.4601,\tbest estimator lrl1's best error=0.4601\n",
      "[flaml.automl: 04-10 20:01:39] {2291} INFO - iteration 21, current learner lrl1\n",
      "[flaml.automl: 04-10 20:02:01] {2479} INFO -  at 402.1s,\testimator lrl1's best error=0.4601,\tbest estimator lrl1's best error=0.4601\n",
      "[flaml.automl: 04-10 20:02:01] {2291} INFO - iteration 22, current learner lrl1\n",
      "[flaml.automl: 04-10 20:02:25] {2479} INFO -  at 426.9s,\testimator lrl1's best error=0.4601,\tbest estimator lrl1's best error=0.4601\n",
      "[flaml.automl: 04-10 20:02:25] {2291} INFO - iteration 23, current learner lrl1\n",
      "[flaml.automl: 04-10 20:02:44] {2479} INFO -  at 445.4s,\testimator lrl1's best error=0.4601,\tbest estimator lrl1's best error=0.4601\n",
      "[flaml.automl: 04-10 20:02:44] {2291} INFO - iteration 24, current learner lrl1\n",
      "[flaml.automl: 04-10 20:03:05] {2479} INFO -  at 466.7s,\testimator lrl1's best error=0.4601,\tbest estimator lrl1's best error=0.4601\n",
      "[flaml.automl: 04-10 20:03:05] {2291} INFO - iteration 25, current learner lrl1\n",
      "[flaml.automl: 04-10 20:03:21] {2479} INFO -  at 482.6s,\testimator lrl1's best error=0.4601,\tbest estimator lrl1's best error=0.4601\n",
      "[flaml.automl: 04-10 20:03:21] {2291} INFO - iteration 26, current learner lrl1\n",
      "[flaml.automl: 04-10 20:03:37] {2479} INFO -  at 498.9s,\testimator lrl1's best error=0.4601,\tbest estimator lrl1's best error=0.4601\n",
      "[flaml.automl: 04-10 20:03:37] {2291} INFO - iteration 27, current learner lrl1\n",
      "[flaml.automl: 04-10 20:03:58] {2479} INFO -  at 519.6s,\testimator lrl1's best error=0.4601,\tbest estimator lrl1's best error=0.4601\n",
      "[flaml.automl: 04-10 20:03:58] {2291} INFO - iteration 28, current learner lrl1\n",
      "[flaml.automl: 04-10 20:04:19] {2479} INFO -  at 540.6s,\testimator lrl1's best error=0.4601,\tbest estimator lrl1's best error=0.4601\n",
      "[flaml.automl: 04-10 20:04:19] {2291} INFO - iteration 29, current learner lrl1\n",
      "[flaml.automl: 04-10 20:04:37] {2479} INFO -  at 558.9s,\testimator lrl1's best error=0.4601,\tbest estimator lrl1's best error=0.4601\n",
      "[flaml.automl: 04-10 20:04:37] {2291} INFO - iteration 30, current learner lrl1\n",
      "[flaml.automl: 04-10 20:04:54] {2479} INFO -  at 575.1s,\testimator lrl1's best error=0.4601,\tbest estimator lrl1's best error=0.4601\n",
      "[flaml.automl: 04-10 20:04:54] {2291} INFO - iteration 31, current learner lrl1\n",
      "[flaml.automl: 04-10 20:05:15] {2479} INFO -  at 596.1s,\testimator lrl1's best error=0.4601,\tbest estimator lrl1's best error=0.4601\n",
      "[flaml.automl: 04-10 20:05:15] {2291} INFO - iteration 32, current learner lrl1\n",
      "[flaml.automl: 04-10 20:05:36] {2479} INFO -  at 617.7s,\testimator lrl1's best error=0.4601,\tbest estimator lrl1's best error=0.4601\n",
      "[flaml.automl: 04-10 20:05:36] {2291} INFO - iteration 33, current learner lrl1\n",
      "[flaml.automl: 04-10 20:05:53] {2479} INFO -  at 634.1s,\testimator lrl1's best error=0.4601,\tbest estimator lrl1's best error=0.4601\n",
      "[flaml.automl: 04-10 20:05:53] {2291} INFO - iteration 34, current learner lrl1\n",
      "[flaml.automl: 04-10 20:06:13] {2479} INFO -  at 654.4s,\testimator lrl1's best error=0.4601,\tbest estimator lrl1's best error=0.4601\n"
     ]
    },
    {
     "name": "stderr",
     "output_type": "stream",
     "text": [
      "[flaml.automl: 04-10 20:06:13] {2291} INFO - iteration 35, current learner lrl1\n",
      "[flaml.automl: 04-10 20:06:29] {2479} INFO -  at 670.7s,\testimator lrl1's best error=0.4601,\tbest estimator lrl1's best error=0.4601\n",
      "[flaml.automl: 04-10 20:06:29] {2291} INFO - iteration 36, current learner lrl1\n",
      "[flaml.automl: 04-10 20:06:46] {2479} INFO -  at 687.1s,\testimator lrl1's best error=0.4601,\tbest estimator lrl1's best error=0.4601\n",
      "[flaml.automl: 04-10 20:06:46] {2291} INFO - iteration 37, current learner lrl1\n",
      "[flaml.automl: 04-10 20:07:06] {2479} INFO -  at 707.7s,\testimator lrl1's best error=0.4601,\tbest estimator lrl1's best error=0.4601\n",
      "[flaml.automl: 04-10 20:07:06] {2291} INFO - iteration 38, current learner lrl1\n",
      "[flaml.automl: 04-10 20:07:27] {2479} INFO -  at 728.2s,\testimator lrl1's best error=0.4601,\tbest estimator lrl1's best error=0.4601\n",
      "[flaml.automl: 04-10 20:07:27] {2291} INFO - iteration 39, current learner lrl1\n",
      "[flaml.automl: 04-10 20:07:43] {2479} INFO -  at 744.4s,\testimator lrl1's best error=0.4601,\tbest estimator lrl1's best error=0.4601\n",
      "[flaml.automl: 04-10 20:07:43] {2291} INFO - iteration 40, current learner lrl1\n",
      "[flaml.automl: 04-10 20:07:59] {2479} INFO -  at 760.0s,\testimator lrl1's best error=0.4601,\tbest estimator lrl1's best error=0.4601\n",
      "[flaml.automl: 04-10 20:07:59] {2291} INFO - iteration 41, current learner lrl1\n",
      "[flaml.automl: 04-10 20:08:17] {2479} INFO -  at 778.3s,\testimator lrl1's best error=0.4601,\tbest estimator lrl1's best error=0.4601\n",
      "[flaml.automl: 04-10 20:08:17] {2291} INFO - iteration 42, current learner lrl1\n",
      "[flaml.automl: 04-10 20:08:32] {2479} INFO -  at 793.6s,\testimator lrl1's best error=0.4601,\tbest estimator lrl1's best error=0.4601\n",
      "[flaml.automl: 04-10 20:08:32] {2291} INFO - iteration 43, current learner lrl1\n",
      "[flaml.automl: 04-10 20:08:50] {2479} INFO -  at 811.9s,\testimator lrl1's best error=0.4601,\tbest estimator lrl1's best error=0.4601\n",
      "[flaml.automl: 04-10 20:08:50] {2291} INFO - iteration 44, current learner lrl1\n",
      "[flaml.automl: 04-10 20:09:05] {2479} INFO -  at 826.8s,\testimator lrl1's best error=0.4601,\tbest estimator lrl1's best error=0.4601\n",
      "[flaml.automl: 04-10 20:09:05] {2291} INFO - iteration 45, current learner lrl1\n",
      "[flaml.automl: 04-10 20:09:24] {2479} INFO -  at 845.0s,\testimator lrl1's best error=0.4601,\tbest estimator lrl1's best error=0.4601\n",
      "[flaml.automl: 04-10 20:09:24] {2291} INFO - iteration 46, current learner lrl1\n",
      "[flaml.automl: 04-10 20:09:39] {2479} INFO -  at 860.2s,\testimator lrl1's best error=0.4601,\tbest estimator lrl1's best error=0.4601\n",
      "[flaml.automl: 04-10 20:09:39] {2291} INFO - iteration 47, current learner lrl1\n",
      "[flaml.automl: 04-10 20:09:57] {2479} INFO -  at 878.3s,\testimator lrl1's best error=0.4601,\tbest estimator lrl1's best error=0.4601\n",
      "[flaml.automl: 04-10 20:09:57] {2291} INFO - iteration 48, current learner lrl1\n",
      "[flaml.automl: 04-10 20:10:12] {2479} INFO -  at 893.1s,\testimator lrl1's best error=0.4601,\tbest estimator lrl1's best error=0.4601\n",
      "[flaml.automl: 04-10 20:10:12] {2291} INFO - iteration 49, current learner lrl1\n",
      "[flaml.automl: 04-10 20:10:30] {2479} INFO -  at 911.3s,\testimator lrl1's best error=0.4601,\tbest estimator lrl1's best error=0.4601\n",
      "[flaml.automl: 04-10 20:10:30] {2291} INFO - iteration 50, current learner lrl1\n",
      "[flaml.automl: 04-10 20:10:48] {2479} INFO -  at 929.3s,\testimator lrl1's best error=0.4601,\tbest estimator lrl1's best error=0.4601\n",
      "[flaml.automl: 04-10 20:10:48] {2291} INFO - iteration 51, current learner lrl1\n",
      "[flaml.automl: 04-10 20:11:03] {2479} INFO -  at 944.2s,\testimator lrl1's best error=0.4601,\tbest estimator lrl1's best error=0.4601\n",
      "[flaml.automl: 04-10 20:11:03] {2291} INFO - iteration 52, current learner lrl1\n",
      "[flaml.automl: 04-10 20:11:21] {2479} INFO -  at 962.3s,\testimator lrl1's best error=0.4601,\tbest estimator lrl1's best error=0.4601\n",
      "[flaml.automl: 04-10 20:11:21] {2291} INFO - iteration 53, current learner lrl1\n",
      "[flaml.automl: 04-10 20:11:36] {2479} INFO -  at 977.2s,\testimator lrl1's best error=0.4601,\tbest estimator lrl1's best error=0.4601\n",
      "[flaml.automl: 04-10 20:11:36] {2291} INFO - iteration 54, current learner lrl1\n",
      "[flaml.automl: 04-10 20:11:54] {2479} INFO -  at 995.2s,\testimator lrl1's best error=0.4601,\tbest estimator lrl1's best error=0.4601\n",
      "[flaml.automl: 04-10 20:11:58] {2695} INFO - retrain lrl1 for 4.2s\n",
      "[flaml.automl: 04-10 20:11:58] {2702} INFO - retrained model: LogisticRegression(C=3.9999999999999987, n_jobs=-1, penalty='l1', solver='saga')\n",
      "[flaml.automl: 04-10 20:11:58] {2080} INFO - fit succeeded\n",
      "[flaml.automl: 04-10 20:11:58] {2081} INFO - Time taken to find the best model: 42.832919120788574\n"
     ]
    }
   ],
   "source": [
    "# AutoML prediction\n",
    "from flaml import AutoML\n",
    "automl_clf = AutoML()\n",
    "automl_clf.fit(X_train_transformed, y_train_transformed, task=\"classification\", estimator_list=['lrl1'], time_budget=1000, verbose=3)\n"
   ]
  },
  {
   "cell_type": "markdown",
   "id": "973d2bc2",
   "metadata": {},
   "source": [
    "### Evaluate model"
   ]
  },
  {
   "cell_type": "code",
   "execution_count": 60,
   "id": "3f25a2fa",
   "metadata": {},
   "outputs": [],
   "source": [
    "X_val_transformed = pipe.transform(X_val)\n",
    "\n",
    "y_val_transformed = le.transform(y_val)\n",
    "y_val_transformed = y_val_transformed.astype('float32')"
   ]
  },
  {
   "cell_type": "code",
   "execution_count": 61,
   "id": "a5cee2ab",
   "metadata": {},
   "outputs": [],
   "source": [
    "y_pred = automl_clf.predict(X_val_transformed)"
   ]
  },
  {
   "cell_type": "code",
   "execution_count": 62,
   "id": "c74caee4",
   "metadata": {},
   "outputs": [],
   "source": [
    "y_pred_original = le.inverse_transform(y_pred.astype('int32'))"
   ]
  },
  {
   "cell_type": "code",
   "execution_count": 63,
   "id": "a458e132",
   "metadata": {},
   "outputs": [
    {
     "name": "stdout",
     "output_type": "stream",
     "text": [
      "[[ 41   0   0 ...   0   0   0]\n",
      " [  0   1   0 ...   0   0   0]\n",
      " [  0   0 181 ...   2   0   1]\n",
      " ...\n",
      " [  0   0   0 ...  69   0   0]\n",
      " [  0   0   0 ...   1   1   0]\n",
      " [  0   0   0 ...   0   0   4]]\n",
      "                       precision    recall  f1-score   support\n",
      "\n",
      "           bookflight       0.95      0.98      0.96        42\n",
      "          changeorder       0.20      0.20      0.20         5\n",
      " changeseatassignment       0.90      0.94      0.92       192\n",
      "         checkbalance       0.96      0.98      0.97        50\n",
      "     checkclaimstatus       1.00      0.98      0.99        90\n",
      "checkoffereligibility       0.55      1.00      0.71         6\n",
      "    checkserverstatus       0.88      0.93      0.90        30\n",
      "         closeaccount       0.82      0.70      0.76        20\n",
      "        disputecharge       0.96      0.52      0.68        42\n",
      "        expensereport       0.97      0.96      0.97        77\n",
      "      getboardingpass       1.00      1.00      1.00       114\n",
      " getinformationintent       0.86      0.75      0.80        32\n",
      "        getpromotions       0.00      0.00      0.00         3\n",
      "  getproofofinsurance       0.99      1.00      0.99       192\n",
      "     getroutingnumber       0.92      0.86      0.89        14\n",
      "          getseatinfo       0.79      0.56      0.66        48\n",
      " orderbreakfastintent       0.00      0.00      0.00         7\n",
      "    orderburgerintent       0.82      0.56      0.67        59\n",
      "          orderchecks       0.62      0.62      0.62         8\n",
      "   orderdessertintent       0.82      0.30      0.44        60\n",
      "     orderdrinkintent       0.51      0.91      0.66       151\n",
      "     orderpizzaintent       0.94      0.88      0.91       203\n",
      "     ordersaladintent       0.85      0.90      0.88        52\n",
      "      ordersideintent       0.00      0.00      0.00        23\n",
      "       providereceipt       0.33      1.00      0.50         1\n",
      "          replacecard       1.00      0.60      0.75        15\n",
      "    reportbrokenphone       1.00      0.91      0.95        69\n",
      " reportbrokensoftware       0.98      0.86      0.91        69\n",
      "       reportlostcard       0.81      1.00      0.90        73\n",
      "       softwareupdate       0.91      0.93      0.92        55\n",
      "           startorder       0.72      0.82      0.77        56\n",
      "   startserviceintent       0.97      1.00      0.98       330\n",
      "            stoporder       0.00      0.00      0.00         3\n",
      "        transfermoney       0.95      0.95      0.95        43\n",
      "        updateaddress       0.93      1.00      0.97        69\n",
      " upgradeserviceintent       0.50      0.20      0.29         5\n",
      "      viewbillsintent       0.67      0.24      0.35        17\n",
      "\n",
      "             accuracy                           0.88      2325\n",
      "            macro avg       0.73      0.70      0.70      2325\n",
      "         weighted avg       0.88      0.88      0.87      2325\n",
      "\n"
     ]
    }
   ],
   "source": [
    "from sklearn.metrics import confusion_matrix, classification_report\n",
    "\n",
    "print(confusion_matrix(y_val, y_pred_original))\n",
    "print(classification_report(y_val, y_pred_original))"
   ]
  },
  {
   "cell_type": "markdown",
   "id": "54d8d2fe",
   "metadata": {},
   "source": [
    "### Cross-validation with best model found by AutoML"
   ]
  },
  {
   "cell_type": "code",
   "execution_count": 64,
   "id": "17617d70",
   "metadata": {},
   "outputs": [],
   "source": [
    "best_clf = automl_clf.model.estimator"
   ]
  },
  {
   "cell_type": "code",
   "execution_count": 65,
   "id": "5542ee41",
   "metadata": {},
   "outputs": [
    {
     "name": "stdout",
     "output_type": "stream",
     "text": [
      "Scores: [0.8508, 0.8516, 0.8396, 0.8521, 0.8435]\n",
      "Mean score: 0.8475\n",
      "+/-2 std. dev. range within mean: (0.8374, 0.8576)\n"
     ]
    }
   ],
   "source": [
    "from sklearn.model_selection import cross_val_score\n",
    "\n",
    "ami_scores = cross_val_score(best_clf, X_train_transformed, y_train_transformed, scoring='adjusted_mutual_info_score', cv=5)\n",
    "\n",
    "# Calculate mean and standard deviation of scores\n",
    "avg_ami = ami_scores.mean()\n",
    "stddev_ami = ami_scores.std()\n",
    "\n",
    "# Print results\n",
    "print(\"Scores:\", [round(score, 4) for score in ami_scores])\n",
    "print(f\"Mean score: {round(avg_ami, 4)}\")\n",
    "print(f\"+/-2 std. dev. range within mean: ({avg_ami - 2*stddev_ami:.4f}, {avg_ami + 2*stddev_ami:.4f})\")"
   ]
  },
  {
   "cell_type": "code",
   "execution_count": 66,
   "id": "17a2382b",
   "metadata": {},
   "outputs": [
    {
     "name": "stdout",
     "output_type": "stream",
     "text": [
      "ARI: 0.8304811668049914\n",
      "AMI: 0.8585691119849064\n"
     ]
    }
   ],
   "source": [
    "from sklearn.metrics.cluster import adjusted_rand_score, adjusted_mutual_info_score\n",
    "\n",
    "ari = adjusted_rand_score(y_val, y_pred_original)\n",
    "ami = adjusted_mutual_info_score(y_val, y_pred_original, average_method='arithmetic')\n",
    "\n",
    "print(\"ARI: {}\".format(ari))\n",
    "print(\"AMI: {}\".format(ami))"
   ]
  },
  {
   "cell_type": "markdown",
   "id": "1f83469a",
   "metadata": {},
   "source": [
    "## Predictions on test data"
   ]
  },
  {
   "cell_type": "code",
   "execution_count": 67,
   "id": "b40e14d3",
   "metadata": {},
   "outputs": [
    {
     "name": "stdout",
     "output_type": "stream",
     "text": [
      "<class 'pandas.core.frame.DataFrame'>\n",
      "RangeIndex: 2906 entries, 0 to 2905\n",
      "Data columns (total 2 columns):\n",
      " #   Column   Non-Null Count  Dtype \n",
      "---  ------   --------------  ----- \n",
      " 0   id       2906 non-null   int64 \n",
      " 1   message  2906 non-null   object\n",
      "dtypes: int64(1), object(1)\n",
      "memory usage: 45.5+ KB\n"
     ]
    },
    {
     "data": {
      "text/html": [
       "<div>\n",
       "<style scoped>\n",
       "    .dataframe tbody tr th:only-of-type {\n",
       "        vertical-align: middle;\n",
       "    }\n",
       "\n",
       "    .dataframe tbody tr th {\n",
       "        vertical-align: top;\n",
       "    }\n",
       "\n",
       "    .dataframe thead th {\n",
       "        text-align: right;\n",
       "    }\n",
       "</style>\n",
       "<table border=\"1\" class=\"dataframe\">\n",
       "  <thead>\n",
       "    <tr style=\"text-align: right;\">\n",
       "      <th></th>\n",
       "      <th>id</th>\n",
       "      <th>message</th>\n",
       "    </tr>\n",
       "  </thead>\n",
       "  <tbody>\n",
       "    <tr>\n",
       "      <th>0</th>\n",
       "      <td>12123</td>\n",
       "      <td>i have problem in excel</td>\n",
       "    </tr>\n",
       "    <tr>\n",
       "      <th>1</th>\n",
       "      <td>244</td>\n",
       "      <td>i need \\t pesto drizzle over grilled chicken c...</td>\n",
       "    </tr>\n",
       "    <tr>\n",
       "      <th>2</th>\n",
       "      <td>8221</td>\n",
       "      <td>need to help order a new card as the old one e...</td>\n",
       "    </tr>\n",
       "    <tr>\n",
       "      <th>3</th>\n",
       "      <td>12856</td>\n",
       "      <td>i need internet plan</td>\n",
       "    </tr>\n",
       "    <tr>\n",
       "      <th>4</th>\n",
       "      <td>12108</td>\n",
       "      <td>my are report travel</td>\n",
       "    </tr>\n",
       "  </tbody>\n",
       "</table>\n",
       "</div>"
      ],
      "text/plain": [
       "      id                                            message\n",
       "0  12123                            i have problem in excel\n",
       "1    244  i need \\t pesto drizzle over grilled chicken c...\n",
       "2   8221  need to help order a new card as the old one e...\n",
       "3  12856                               i need internet plan\n",
       "4  12108                               my are report travel"
      ]
     },
     "execution_count": 67,
     "metadata": {},
     "output_type": "execute_result"
    }
   ],
   "source": [
    "df_test = pd.read_csv('input_data.csv')\n",
    "df_test.info()\n",
    "df_test.head()"
   ]
  },
  {
   "cell_type": "code",
   "execution_count": 68,
   "id": "d0acaf6e",
   "metadata": {},
   "outputs": [],
   "source": [
    "X_test_transformed = pipe.transform(df_test['message'])"
   ]
  },
  {
   "cell_type": "code",
   "execution_count": 69,
   "id": "65eb1cf8",
   "metadata": {},
   "outputs": [],
   "source": [
    "pred_test = best_clf.predict(X_test_transformed)"
   ]
  },
  {
   "cell_type": "code",
   "execution_count": 70,
   "id": "a982ce74",
   "metadata": {},
   "outputs": [],
   "source": [
    "test_pred = le.inverse_transform(pred_test.astype('int32'))"
   ]
  },
  {
   "cell_type": "code",
   "execution_count": 71,
   "id": "743204a8",
   "metadata": {},
   "outputs": [
    {
     "name": "stdout",
     "output_type": "stream",
     "text": [
      "      Id               label\n",
      "0  12123    orderdrinkintent\n",
      "1    244   orderburgerintent\n",
      "2   8221         replacecard\n",
      "3  12856  startserviceintent\n",
      "4  12108       expensereport\n"
     ]
    }
   ],
   "source": [
    "my_submission = pd.DataFrame({'Id': df_test['id'], 'label': test_pred})\n",
    "print(my_submission.head())"
   ]
  },
  {
   "cell_type": "code",
   "execution_count": 72,
   "id": "76233f32",
   "metadata": {},
   "outputs": [],
   "source": [
    "compression_opts = dict(method='zip', archive_name='coda_submission.csv')\n",
    "my_submission.to_csv('coda_submission.zip', index=False, compression=compression_opts)"
   ]
  },
  {
   "cell_type": "code",
   "execution_count": null,
   "id": "bda21d51",
   "metadata": {},
   "outputs": [],
   "source": []
  }
 ],
 "metadata": {
  "kernelspec": {
   "display_name": "Python 3 (ipykernel)",
   "language": "python",
   "name": "python3"
  },
  "language_info": {
   "codemirror_mode": {
    "name": "ipython",
    "version": 3
   },
   "file_extension": ".py",
   "mimetype": "text/x-python",
   "name": "python",
   "nbconvert_exporter": "python",
   "pygments_lexer": "ipython3",
   "version": "3.8.8"
  }
 },
 "nbformat": 4,
 "nbformat_minor": 5
}
