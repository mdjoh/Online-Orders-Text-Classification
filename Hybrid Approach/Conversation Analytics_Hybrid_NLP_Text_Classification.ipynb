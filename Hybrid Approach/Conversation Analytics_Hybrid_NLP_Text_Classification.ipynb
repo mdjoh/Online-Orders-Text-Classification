{
  "nbformat": 4,
  "nbformat_minor": 0,
  "metadata": {
    "colab": {
      "name": "Hybrid - NLP Text Classification.ipynb",
      "provenance": [],
      "collapsed_sections": []
    },
    "kernelspec": {
      "name": "python3",
      "display_name": "Python 3"
    },
    "language_info": {
      "name": "python"
    },
    "accelerator": "GPU"
  },
  "cells": [
    {
      "cell_type": "code",
      "execution_count": null,
      "metadata": {
        "colab": {
          "base_uri": "https://localhost:8080/"
        },
        "id": "SE5MI8s9WWk9",
        "outputId": "d67227a4-a363-4192-9610-f612e2729931"
      },
      "outputs": [
        {
          "output_type": "stream",
          "name": "stdout",
          "text": [
            "Collecting sentence-transformers\n",
            "  Downloading sentence-transformers-2.2.0.tar.gz (79 kB)\n",
            "\u001b[K     |████████████████████████████████| 79 kB 3.6 MB/s \n",
            "\u001b[?25hCollecting transformers<5.0.0,>=4.6.0\n",
            "  Downloading transformers-4.18.0-py3-none-any.whl (4.0 MB)\n",
            "\u001b[K     |████████████████████████████████| 4.0 MB 9.8 MB/s \n",
            "\u001b[?25hRequirement already satisfied: tqdm in /usr/local/lib/python3.7/dist-packages (from sentence-transformers) (4.64.0)\n",
            "Requirement already satisfied: torch>=1.6.0 in /usr/local/lib/python3.7/dist-packages (from sentence-transformers) (1.10.0+cu111)\n",
            "Requirement already satisfied: torchvision in /usr/local/lib/python3.7/dist-packages (from sentence-transformers) (0.11.1+cu111)\n",
            "Requirement already satisfied: numpy in /usr/local/lib/python3.7/dist-packages (from sentence-transformers) (1.21.5)\n",
            "Requirement already satisfied: scikit-learn in /usr/local/lib/python3.7/dist-packages (from sentence-transformers) (1.0.2)\n",
            "Requirement already satisfied: scipy in /usr/local/lib/python3.7/dist-packages (from sentence-transformers) (1.4.1)\n",
            "Requirement already satisfied: nltk in /usr/local/lib/python3.7/dist-packages (from sentence-transformers) (3.2.5)\n",
            "Collecting sentencepiece\n",
            "  Downloading sentencepiece-0.1.96-cp37-cp37m-manylinux_2_17_x86_64.manylinux2014_x86_64.whl (1.2 MB)\n",
            "\u001b[K     |████████████████████████████████| 1.2 MB 19.8 MB/s \n",
            "\u001b[?25hCollecting huggingface-hub\n",
            "  Downloading huggingface_hub-0.5.1-py3-none-any.whl (77 kB)\n",
            "\u001b[K     |████████████████████████████████| 77 kB 2.7 MB/s \n",
            "\u001b[?25hRequirement already satisfied: typing-extensions in /usr/local/lib/python3.7/dist-packages (from torch>=1.6.0->sentence-transformers) (4.1.1)\n",
            "Requirement already satisfied: packaging>=20.0 in /usr/local/lib/python3.7/dist-packages (from transformers<5.0.0,>=4.6.0->sentence-transformers) (21.3)\n",
            "Requirement already satisfied: requests in /usr/local/lib/python3.7/dist-packages (from transformers<5.0.0,>=4.6.0->sentence-transformers) (2.23.0)\n",
            "Collecting sacremoses\n",
            "  Downloading sacremoses-0.0.49-py3-none-any.whl (895 kB)\n",
            "\u001b[K     |████████████████████████████████| 895 kB 53.6 MB/s \n",
            "\u001b[?25hCollecting tokenizers!=0.11.3,<0.13,>=0.11.1\n",
            "  Downloading tokenizers-0.12.1-cp37-cp37m-manylinux_2_12_x86_64.manylinux2010_x86_64.whl (6.6 MB)\n",
            "\u001b[K     |████████████████████████████████| 6.6 MB 47.0 MB/s \n",
            "\u001b[?25hCollecting pyyaml>=5.1\n",
            "  Downloading PyYAML-6.0-cp37-cp37m-manylinux_2_5_x86_64.manylinux1_x86_64.manylinux_2_12_x86_64.manylinux2010_x86_64.whl (596 kB)\n",
            "\u001b[K     |████████████████████████████████| 596 kB 46.2 MB/s \n",
            "\u001b[?25hRequirement already satisfied: regex!=2019.12.17 in /usr/local/lib/python3.7/dist-packages (from transformers<5.0.0,>=4.6.0->sentence-transformers) (2019.12.20)\n",
            "Requirement already satisfied: importlib-metadata in /usr/local/lib/python3.7/dist-packages (from transformers<5.0.0,>=4.6.0->sentence-transformers) (4.11.3)\n",
            "Requirement already satisfied: filelock in /usr/local/lib/python3.7/dist-packages (from transformers<5.0.0,>=4.6.0->sentence-transformers) (3.6.0)\n",
            "Requirement already satisfied: pyparsing!=3.0.5,>=2.0.2 in /usr/local/lib/python3.7/dist-packages (from packaging>=20.0->transformers<5.0.0,>=4.6.0->sentence-transformers) (3.0.8)\n",
            "Requirement already satisfied: zipp>=0.5 in /usr/local/lib/python3.7/dist-packages (from importlib-metadata->transformers<5.0.0,>=4.6.0->sentence-transformers) (3.8.0)\n",
            "Requirement already satisfied: six in /usr/local/lib/python3.7/dist-packages (from nltk->sentence-transformers) (1.15.0)\n",
            "Requirement already satisfied: idna<3,>=2.5 in /usr/local/lib/python3.7/dist-packages (from requests->transformers<5.0.0,>=4.6.0->sentence-transformers) (2.10)\n",
            "Requirement already satisfied: chardet<4,>=3.0.2 in /usr/local/lib/python3.7/dist-packages (from requests->transformers<5.0.0,>=4.6.0->sentence-transformers) (3.0.4)\n",
            "Requirement already satisfied: urllib3!=1.25.0,!=1.25.1,<1.26,>=1.21.1 in /usr/local/lib/python3.7/dist-packages (from requests->transformers<5.0.0,>=4.6.0->sentence-transformers) (1.24.3)\n",
            "Requirement already satisfied: certifi>=2017.4.17 in /usr/local/lib/python3.7/dist-packages (from requests->transformers<5.0.0,>=4.6.0->sentence-transformers) (2021.10.8)\n",
            "Requirement already satisfied: joblib in /usr/local/lib/python3.7/dist-packages (from sacremoses->transformers<5.0.0,>=4.6.0->sentence-transformers) (1.1.0)\n",
            "Requirement already satisfied: click in /usr/local/lib/python3.7/dist-packages (from sacremoses->transformers<5.0.0,>=4.6.0->sentence-transformers) (7.1.2)\n",
            "Requirement already satisfied: threadpoolctl>=2.0.0 in /usr/local/lib/python3.7/dist-packages (from scikit-learn->sentence-transformers) (3.1.0)\n",
            "Requirement already satisfied: pillow!=8.3.0,>=5.3.0 in /usr/local/lib/python3.7/dist-packages (from torchvision->sentence-transformers) (7.1.2)\n",
            "Building wheels for collected packages: sentence-transformers\n",
            "  Building wheel for sentence-transformers (setup.py) ... \u001b[?25l\u001b[?25hdone\n",
            "  Created wheel for sentence-transformers: filename=sentence_transformers-2.2.0-py3-none-any.whl size=120747 sha256=902d7131bcdcf80bd3d383f06233ed48413235846b28ea5fcc96fbcff4000732\n",
            "  Stored in directory: /root/.cache/pip/wheels/83/c0/df/b6873ab7aac3f2465aa9144b6b4c41c4391cfecc027c8b07e7\n",
            "Successfully built sentence-transformers\n",
            "Installing collected packages: pyyaml, tokenizers, sacremoses, huggingface-hub, transformers, sentencepiece, sentence-transformers\n",
            "  Attempting uninstall: pyyaml\n",
            "    Found existing installation: PyYAML 3.13\n",
            "    Uninstalling PyYAML-3.13:\n",
            "      Successfully uninstalled PyYAML-3.13\n",
            "Successfully installed huggingface-hub-0.5.1 pyyaml-6.0 sacremoses-0.0.49 sentence-transformers-2.2.0 sentencepiece-0.1.96 tokenizers-0.12.1 transformers-4.18.0\n"
          ]
        }
      ],
      "source": [
        "!pip install sentence-transformers"
      ]
    },
    {
      "cell_type": "code",
      "source": [
        "from google.colab import drive\n",
        "drive.mount('/content/drive')"
      ],
      "metadata": {
        "colab": {
          "base_uri": "https://localhost:8080/"
        },
        "id": "RyyY2QlqWoTj",
        "outputId": "c893fdae-c7d6-471a-df0a-093d69422716"
      },
      "execution_count": null,
      "outputs": [
        {
          "output_type": "stream",
          "name": "stdout",
          "text": [
            "Mounted at /content/drive\n"
          ]
        }
      ]
    },
    {
      "cell_type": "code",
      "source": [
        "import pandas as pd\n",
        "\n",
        "df_training = pd.read_csv(\"/content/drive/MyDrive/LPJT/public_data_bathurst_cleaned.csv\", encoding='unicode_escape')\n",
        "df_test = pd.read_csv('/content/drive/MyDrive/LPJT/input_data.csv')"
      ],
      "metadata": {
        "id": "3sfLVVCLWi6q"
      },
      "execution_count": null,
      "outputs": []
    },
    {
      "cell_type": "code",
      "source": [
        "from sklearn.preprocessing import LabelEncoder\n",
        "labelEncoder = LabelEncoder()\n",
        "encoded_labels = labelEncoder.fit_transform(df_training['label'])"
      ],
      "metadata": {
        "id": "pBZFoDimWjBp"
      },
      "execution_count": null,
      "outputs": []
    },
    {
      "cell_type": "code",
      "source": [
        "X = pd.concat([df_training['message'].rename('text'), pd.Series(encoded_labels, name='labels')], axis=1)\n",
        "X.head()"
      ],
      "metadata": {
        "colab": {
          "base_uri": "https://localhost:8080/",
          "height": 206
        },
        "id": "c_IBLjAFWjEK",
        "outputId": "5d5406fc-611f-4b4e-f768-d1095069f416"
      },
      "execution_count": null,
      "outputs": [
        {
          "output_type": "execute_result",
          "data": {
            "text/plain": [
              "                                                text  labels\n",
              "0    hi i want change my address from my credit card      38\n",
              "1  i need 4 fruit maple oatmeal 3 cold brew froze...      22\n",
              "2        i wish to travel next month domestic airway       0\n",
              "3                   i need reimbursement my expenses      11\n",
              "4              i need a copy of insurance for my car      15"
            ],
            "text/html": [
              "\n",
              "  <div id=\"df-91ec722d-c8c9-41ec-9b37-4021b65e3279\">\n",
              "    <div class=\"colab-df-container\">\n",
              "      <div>\n",
              "<style scoped>\n",
              "    .dataframe tbody tr th:only-of-type {\n",
              "        vertical-align: middle;\n",
              "    }\n",
              "\n",
              "    .dataframe tbody tr th {\n",
              "        vertical-align: top;\n",
              "    }\n",
              "\n",
              "    .dataframe thead th {\n",
              "        text-align: right;\n",
              "    }\n",
              "</style>\n",
              "<table border=\"1\" class=\"dataframe\">\n",
              "  <thead>\n",
              "    <tr style=\"text-align: right;\">\n",
              "      <th></th>\n",
              "      <th>text</th>\n",
              "      <th>labels</th>\n",
              "    </tr>\n",
              "  </thead>\n",
              "  <tbody>\n",
              "    <tr>\n",
              "      <th>0</th>\n",
              "      <td>hi i want change my address from my credit card</td>\n",
              "      <td>38</td>\n",
              "    </tr>\n",
              "    <tr>\n",
              "      <th>1</th>\n",
              "      <td>i need 4 fruit maple oatmeal 3 cold brew froze...</td>\n",
              "      <td>22</td>\n",
              "    </tr>\n",
              "    <tr>\n",
              "      <th>2</th>\n",
              "      <td>i wish to travel next month domestic airway</td>\n",
              "      <td>0</td>\n",
              "    </tr>\n",
              "    <tr>\n",
              "      <th>3</th>\n",
              "      <td>i need reimbursement my expenses</td>\n",
              "      <td>11</td>\n",
              "    </tr>\n",
              "    <tr>\n",
              "      <th>4</th>\n",
              "      <td>i need a copy of insurance for my car</td>\n",
              "      <td>15</td>\n",
              "    </tr>\n",
              "  </tbody>\n",
              "</table>\n",
              "</div>\n",
              "      <button class=\"colab-df-convert\" onclick=\"convertToInteractive('df-91ec722d-c8c9-41ec-9b37-4021b65e3279')\"\n",
              "              title=\"Convert this dataframe to an interactive table.\"\n",
              "              style=\"display:none;\">\n",
              "        \n",
              "  <svg xmlns=\"http://www.w3.org/2000/svg\" height=\"24px\"viewBox=\"0 0 24 24\"\n",
              "       width=\"24px\">\n",
              "    <path d=\"M0 0h24v24H0V0z\" fill=\"none\"/>\n",
              "    <path d=\"M18.56 5.44l.94 2.06.94-2.06 2.06-.94-2.06-.94-.94-2.06-.94 2.06-2.06.94zm-11 1L8.5 8.5l.94-2.06 2.06-.94-2.06-.94L8.5 2.5l-.94 2.06-2.06.94zm10 10l.94 2.06.94-2.06 2.06-.94-2.06-.94-.94-2.06-.94 2.06-2.06.94z\"/><path d=\"M17.41 7.96l-1.37-1.37c-.4-.4-.92-.59-1.43-.59-.52 0-1.04.2-1.43.59L10.3 9.45l-7.72 7.72c-.78.78-.78 2.05 0 2.83L4 21.41c.39.39.9.59 1.41.59.51 0 1.02-.2 1.41-.59l7.78-7.78 2.81-2.81c.8-.78.8-2.07 0-2.86zM5.41 20L4 18.59l7.72-7.72 1.47 1.35L5.41 20z\"/>\n",
              "  </svg>\n",
              "      </button>\n",
              "      \n",
              "  <style>\n",
              "    .colab-df-container {\n",
              "      display:flex;\n",
              "      flex-wrap:wrap;\n",
              "      gap: 12px;\n",
              "    }\n",
              "\n",
              "    .colab-df-convert {\n",
              "      background-color: #E8F0FE;\n",
              "      border: none;\n",
              "      border-radius: 50%;\n",
              "      cursor: pointer;\n",
              "      display: none;\n",
              "      fill: #1967D2;\n",
              "      height: 32px;\n",
              "      padding: 0 0 0 0;\n",
              "      width: 32px;\n",
              "    }\n",
              "\n",
              "    .colab-df-convert:hover {\n",
              "      background-color: #E2EBFA;\n",
              "      box-shadow: 0px 1px 2px rgba(60, 64, 67, 0.3), 0px 1px 3px 1px rgba(60, 64, 67, 0.15);\n",
              "      fill: #174EA6;\n",
              "    }\n",
              "\n",
              "    [theme=dark] .colab-df-convert {\n",
              "      background-color: #3B4455;\n",
              "      fill: #D2E3FC;\n",
              "    }\n",
              "\n",
              "    [theme=dark] .colab-df-convert:hover {\n",
              "      background-color: #434B5C;\n",
              "      box-shadow: 0px 1px 3px 1px rgba(0, 0, 0, 0.15);\n",
              "      filter: drop-shadow(0px 1px 2px rgba(0, 0, 0, 0.3));\n",
              "      fill: #FFFFFF;\n",
              "    }\n",
              "  </style>\n",
              "\n",
              "      <script>\n",
              "        const buttonEl =\n",
              "          document.querySelector('#df-91ec722d-c8c9-41ec-9b37-4021b65e3279 button.colab-df-convert');\n",
              "        buttonEl.style.display =\n",
              "          google.colab.kernel.accessAllowed ? 'block' : 'none';\n",
              "\n",
              "        async function convertToInteractive(key) {\n",
              "          const element = document.querySelector('#df-91ec722d-c8c9-41ec-9b37-4021b65e3279');\n",
              "          const dataTable =\n",
              "            await google.colab.kernel.invokeFunction('convertToInteractive',\n",
              "                                                     [key], {});\n",
              "          if (!dataTable) return;\n",
              "\n",
              "          const docLinkHtml = 'Like what you see? Visit the ' +\n",
              "            '<a target=\"_blank\" href=https://colab.research.google.com/notebooks/data_table.ipynb>data table notebook</a>'\n",
              "            + ' to learn more about interactive tables.';\n",
              "          element.innerHTML = '';\n",
              "          dataTable['output_type'] = 'display_data';\n",
              "          await google.colab.output.renderOutput(dataTable, element);\n",
              "          const docLink = document.createElement('div');\n",
              "          docLink.innerHTML = docLinkHtml;\n",
              "          element.appendChild(docLink);\n",
              "        }\n",
              "      </script>\n",
              "    </div>\n",
              "  </div>\n",
              "  "
            ]
          },
          "metadata": {},
          "execution_count": 5
        }
      ]
    },
    {
      "cell_type": "code",
      "source": [
        "y = X['labels'].values.astype('float32')"
      ],
      "metadata": {
        "id": "Epk36-g6ab7k"
      },
      "execution_count": null,
      "outputs": []
    },
    {
      "cell_type": "code",
      "source": [
        "!pip install unidecode"
      ],
      "metadata": {
        "colab": {
          "base_uri": "https://localhost:8080/"
        },
        "id": "arLk-6zclFy1",
        "outputId": "f3e8440c-0afd-4152-88a3-06e832b9b3bc"
      },
      "execution_count": null,
      "outputs": [
        {
          "output_type": "stream",
          "name": "stdout",
          "text": [
            "Collecting unidecode\n",
            "  Downloading Unidecode-1.3.4-py3-none-any.whl (235 kB)\n",
            "\u001b[?25l\r\u001b[K     |█▍                              | 10 kB 29.0 MB/s eta 0:00:01\r\u001b[K     |██▉                             | 20 kB 16.0 MB/s eta 0:00:01\r\u001b[K     |████▏                           | 30 kB 9.7 MB/s eta 0:00:01\r\u001b[K     |█████▋                          | 40 kB 8.1 MB/s eta 0:00:01\r\u001b[K     |███████                         | 51 kB 4.5 MB/s eta 0:00:01\r\u001b[K     |████████▍                       | 61 kB 5.3 MB/s eta 0:00:01\r\u001b[K     |█████████▊                      | 71 kB 5.3 MB/s eta 0:00:01\r\u001b[K     |███████████▏                    | 81 kB 5.3 MB/s eta 0:00:01\r\u001b[K     |████████████▌                   | 92 kB 5.9 MB/s eta 0:00:01\r\u001b[K     |██████████████                  | 102 kB 5.1 MB/s eta 0:00:01\r\u001b[K     |███████████████▎                | 112 kB 5.1 MB/s eta 0:00:01\r\u001b[K     |████████████████▊               | 122 kB 5.1 MB/s eta 0:00:01\r\u001b[K     |██████████████████              | 133 kB 5.1 MB/s eta 0:00:01\r\u001b[K     |███████████████████▌            | 143 kB 5.1 MB/s eta 0:00:01\r\u001b[K     |████████████████████▉           | 153 kB 5.1 MB/s eta 0:00:01\r\u001b[K     |██████████████████████▎         | 163 kB 5.1 MB/s eta 0:00:01\r\u001b[K     |███████████████████████▋        | 174 kB 5.1 MB/s eta 0:00:01\r\u001b[K     |█████████████████████████       | 184 kB 5.1 MB/s eta 0:00:01\r\u001b[K     |██████████████████████████▍     | 194 kB 5.1 MB/s eta 0:00:01\r\u001b[K     |███████████████████████████▉    | 204 kB 5.1 MB/s eta 0:00:01\r\u001b[K     |█████████████████████████████▏  | 215 kB 5.1 MB/s eta 0:00:01\r\u001b[K     |██████████████████████████████▋ | 225 kB 5.1 MB/s eta 0:00:01\r\u001b[K     |████████████████████████████████| 235 kB 5.1 MB/s eta 0:00:01\r\u001b[K     |████████████████████████████████| 235 kB 5.1 MB/s \n",
            "\u001b[?25hInstalling collected packages: unidecode\n",
            "Successfully installed unidecode-1.3.4\n"
          ]
        }
      ]
    },
    {
      "cell_type": "code",
      "source": [
        "X_messages = X['text']"
      ],
      "metadata": {
        "id": "iCdCio9iiEo5"
      },
      "execution_count": null,
      "outputs": []
    },
    {
      "cell_type": "code",
      "execution_count": null,
      "metadata": {
        "id": "9cd2c82a",
        "colab": {
          "base_uri": "https://localhost:8080/"
        },
        "outputId": "f6601e70-51f6-40bc-b2b2-43c3b14b1f6a"
      },
      "outputs": [
        {
          "output_type": "stream",
          "name": "stdout",
          "text": [
            "Requirement already satisfied: unidecode in /usr/local/lib/python3.7/dist-packages (1.3.4)\n"
          ]
        }
      ],
      "source": [
        "!pip install unidecode\n",
        "\n",
        "# remove weird characters from messages\n",
        "import unidecode\n",
        "X_messages = X_messages.apply(lambda x: unidecode.unidecode(x))"
      ]
    },
    {
      "cell_type": "code",
      "execution_count": null,
      "metadata": {
        "id": "31059712"
      },
      "outputs": [],
      "source": [
        "# remove numbers from messages\n",
        "import re\n",
        "X_messages = X_messages.apply(lambda x: re.sub(r'\\d+', '', x))"
      ]
    },
    {
      "cell_type": "code",
      "execution_count": null,
      "metadata": {
        "id": "1096234d",
        "colab": {
          "base_uri": "https://localhost:8080/"
        },
        "outputId": "0dd2da79-9f3b-4e84-8170-f8660470af36"
      },
      "outputs": [
        {
          "output_type": "stream",
          "name": "stdout",
          "text": [
            "[nltk_data] Downloading package punkt to /root/nltk_data...\n",
            "[nltk_data]   Unzipping tokenizers/punkt.zip.\n"
          ]
        }
      ],
      "source": [
        "# tokenize messages\n",
        "nltk.download('punkt')\n",
        "X_messages_tokens = X_messages.apply(lambda x: word_tokenize(x))"
      ]
    },
    {
      "cell_type": "code",
      "execution_count": null,
      "metadata": {
        "id": "2a3d313a",
        "outputId": "26d3cef0-c6eb-45da-ca4f-82f5e60de752",
        "colab": {
          "base_uri": "https://localhost:8080/"
        }
      },
      "outputs": [
        {
          "output_type": "stream",
          "name": "stdout",
          "text": [
            "[nltk_data] Downloading package stopwords to /root/nltk_data...\n",
            "[nltk_data]   Unzipping corpora/stopwords.zip.\n"
          ]
        }
      ],
      "source": [
        "# remove stopwords\n",
        "nltk.download('stopwords')\n",
        "\n",
        "X_messages_tokens = X_messages_tokens.apply(lambda x: [word for word in x if word not in stopwords.words('english')])"
      ]
    },
    {
      "cell_type": "code",
      "execution_count": null,
      "metadata": {
        "id": "07ea3b9e",
        "colab": {
          "base_uri": "https://localhost:8080/"
        },
        "outputId": "3b5abefc-fc60-4466-fc62-1724e1a8ea53"
      },
      "outputs": [
        {
          "output_type": "stream",
          "name": "stdout",
          "text": [
            "[nltk_data] Downloading package wordnet to /root/nltk_data...\n",
            "[nltk_data]   Unzipping corpora/wordnet.zip.\n"
          ]
        }
      ],
      "source": [
        "# lemmatize words\n",
        "nltk.download('wordnet')\n",
        "\n",
        "lemmatizer = WordNetLemmatizer()\n",
        "X_messages = X_messages_tokens.apply(lambda x: ' '.join([lemmatizer.lemmatize(word) for word in x]))"
      ]
    },
    {
      "cell_type": "code",
      "source": [
        "X_messages"
      ],
      "metadata": {
        "colab": {
          "base_uri": "https://localhost:8080/"
        },
        "id": "ZcKSt9iFi_z3",
        "outputId": "862a6337-2574-4787-e299-b3c6a9b5629a"
      },
      "execution_count": null,
      "outputs": [
        {
          "output_type": "execute_result",
          "data": {
            "text/plain": [
              "0                      hi want change address credit card\n",
              "1        need fruit maple oatmeal cold brew frozen coffee\n",
              "2                  wish travel next month domestic airway\n",
              "3                              need reimbursement expense\n",
              "4                                 need copy insurance car\n",
              "                               ...                       \n",
              "11618        boarding pas sent email address phone number\n",
              "11619                                  need ticker bombay\n",
              "11620                              want musical equipment\n",
              "11621                                    need window seat\n",
              "11622                       please money transfer account\n",
              "Name: text, Length: 11623, dtype: object"
            ]
          },
          "metadata": {},
          "execution_count": 15
        }
      ]
    },
    {
      "cell_type": "code",
      "source": [
        "import nltk\n",
        "from nltk.corpus import stopwords\n",
        "from nltk import word_tokenize\n",
        "from nltk import word_tokenize, sent_tokenize\n",
        "from nltk.corpus import stopwords\n",
        "from nltk.stem import LancasterStemmer, WordNetLemmatizer\n",
        "import unidecode\n",
        "import re\n",
        "\n",
        "# Preprocessing functions\n",
        "def remove_unwanted_chars(df):\n",
        "    return df.apply(lambda x: unidecode.unidecode(x))\n",
        "\n",
        "def remove_numbers(df):\n",
        "    return df.apply(lambda x: re.sub(r'\\d+', '', x))\n",
        "\n",
        "def tokenize_message(df):\n",
        "    return df.apply(lambda x: word_tokenize(x))\n",
        "\n",
        "def remove_stopwords(df):\n",
        "    return df.apply(lambda x: [word for word in x if word not in stopwords.words('english')])\n",
        "\n",
        "def lemmatize_message(df):\n",
        "    lemmatizer = WordNetLemmatizer()\n",
        "    return df.apply(lambda x: ' '.join([lemmatizer.lemmatize(word) for word in x]))"
      ],
      "metadata": {
        "id": "1rtIeGhVk-tz"
      },
      "execution_count": null,
      "outputs": []
    },
    {
      "cell_type": "code",
      "source": [
        "# Make FunctionTransformers for custom preprocessing functions\n",
        "from sklearn.preprocessing import FunctionTransformer\n",
        "from sklearn.pipeline import Pipeline\n",
        "\n",
        "# nltk.download('punkt')\n",
        "# nltk.download('stopwords')\n",
        "# nltk.download('wordnet')\n",
        "\n",
        "preprocess_pipe = Pipeline([('removeunwanted', FunctionTransformer(remove_unwanted_chars)),\n",
        "                            ('removenumbers', FunctionTransformer(remove_numbers)),\n",
        "                            ('tokenize', FunctionTransformer(tokenize_message)),\n",
        "                            ('removestopwords', FunctionTransformer(remove_stopwords)),\n",
        "                            ('lemmatize', FunctionTransformer(lemmatize_message))])\n",
        "\n",
        "X_train_preprocessed = preprocess_pipe.fit_transform(X['text'])"
      ],
      "metadata": {
        "id": "pEkuf9TRlBzF"
      },
      "execution_count": null,
      "outputs": []
    },
    {
      "cell_type": "code",
      "source": [
        "X_train_preprocessed"
      ],
      "metadata": {
        "colab": {
          "base_uri": "https://localhost:8080/"
        },
        "id": "-CU_7fp6muaZ",
        "outputId": "e1bd2ca4-99f3-49be-dc47-54c2bf449705"
      },
      "execution_count": null,
      "outputs": [
        {
          "output_type": "execute_result",
          "data": {
            "text/plain": [
              "0                      hi want change address credit card\n",
              "1        need fruit maple oatmeal cold brew frozen coffee\n",
              "2                  wish travel next month domestic airway\n",
              "3                              need reimbursement expense\n",
              "4                                 need copy insurance car\n",
              "                               ...                       \n",
              "11618        boarding pas sent email address phone number\n",
              "11619                                  need ticker bombay\n",
              "11620                              want musical equipment\n",
              "11621                                    need window seat\n",
              "11622                       please money transfer account\n",
              "Name: text, Length: 11623, dtype: object"
            ]
          },
          "metadata": {},
          "execution_count": 22
        }
      ]
    },
    {
      "cell_type": "code",
      "source": [
        "X['text']"
      ],
      "metadata": {
        "colab": {
          "base_uri": "https://localhost:8080/"
        },
        "id": "LMahfJzSsTPv",
        "outputId": "7b82ed7e-d791-4ce9-fca1-8ce26b211fa9"
      },
      "execution_count": null,
      "outputs": [
        {
          "output_type": "execute_result",
          "data": {
            "text/plain": [
              "0          hi i want change my address from my credit card\n",
              "1        i need 4 fruit maple oatmeal 3 cold brew froze...\n",
              "2              i wish to travel next month domestic airway\n",
              "3                         i need reimbursement my expenses\n",
              "4                    i need a copy of insurance for my car\n",
              "                               ...                        \n",
              "11618    boarding pass to be sent to your email address...\n",
              "11619                             i need ticker for bombay\n",
              "11620                             i want musical equipment\n",
              "11621                                   i need window seat\n",
              "11622                please money transfer from my account\n",
              "Name: text, Length: 11623, dtype: object"
            ]
          },
          "metadata": {},
          "execution_count": 155
        }
      ]
    },
    {
      "cell_type": "code",
      "source": [
        "X['numwords'] = X['text'].apply(lambda x: len(x.split()))\n",
        "X.head()"
      ],
      "metadata": {
        "colab": {
          "base_uri": "https://localhost:8080/",
          "height": 206
        },
        "id": "Mr3wT4XPvsaR",
        "outputId": "c34081c0-8033-4841-9903-291018adbc62"
      },
      "execution_count": null,
      "outputs": [
        {
          "output_type": "execute_result",
          "data": {
            "text/plain": [
              "                                                text  labels  numwords\n",
              "0    hi i want change my address from my credit card      38        10\n",
              "1  i need 4 fruit maple oatmeal 3 cold brew froze...      22        11\n",
              "2        i wish to travel next month domestic airway       0         8\n",
              "3                   i need reimbursement my expenses      11         5\n",
              "4              i need a copy of insurance for my car      15         9"
            ],
            "text/html": [
              "\n",
              "  <div id=\"df-012ea3c7-be3f-42f1-8dcf-dc08451f3f1f\">\n",
              "    <div class=\"colab-df-container\">\n",
              "      <div>\n",
              "<style scoped>\n",
              "    .dataframe tbody tr th:only-of-type {\n",
              "        vertical-align: middle;\n",
              "    }\n",
              "\n",
              "    .dataframe tbody tr th {\n",
              "        vertical-align: top;\n",
              "    }\n",
              "\n",
              "    .dataframe thead th {\n",
              "        text-align: right;\n",
              "    }\n",
              "</style>\n",
              "<table border=\"1\" class=\"dataframe\">\n",
              "  <thead>\n",
              "    <tr style=\"text-align: right;\">\n",
              "      <th></th>\n",
              "      <th>text</th>\n",
              "      <th>labels</th>\n",
              "      <th>numwords</th>\n",
              "    </tr>\n",
              "  </thead>\n",
              "  <tbody>\n",
              "    <tr>\n",
              "      <th>0</th>\n",
              "      <td>hi i want change my address from my credit card</td>\n",
              "      <td>38</td>\n",
              "      <td>10</td>\n",
              "    </tr>\n",
              "    <tr>\n",
              "      <th>1</th>\n",
              "      <td>i need 4 fruit maple oatmeal 3 cold brew froze...</td>\n",
              "      <td>22</td>\n",
              "      <td>11</td>\n",
              "    </tr>\n",
              "    <tr>\n",
              "      <th>2</th>\n",
              "      <td>i wish to travel next month domestic airway</td>\n",
              "      <td>0</td>\n",
              "      <td>8</td>\n",
              "    </tr>\n",
              "    <tr>\n",
              "      <th>3</th>\n",
              "      <td>i need reimbursement my expenses</td>\n",
              "      <td>11</td>\n",
              "      <td>5</td>\n",
              "    </tr>\n",
              "    <tr>\n",
              "      <th>4</th>\n",
              "      <td>i need a copy of insurance for my car</td>\n",
              "      <td>15</td>\n",
              "      <td>9</td>\n",
              "    </tr>\n",
              "  </tbody>\n",
              "</table>\n",
              "</div>\n",
              "      <button class=\"colab-df-convert\" onclick=\"convertToInteractive('df-012ea3c7-be3f-42f1-8dcf-dc08451f3f1f')\"\n",
              "              title=\"Convert this dataframe to an interactive table.\"\n",
              "              style=\"display:none;\">\n",
              "        \n",
              "  <svg xmlns=\"http://www.w3.org/2000/svg\" height=\"24px\"viewBox=\"0 0 24 24\"\n",
              "       width=\"24px\">\n",
              "    <path d=\"M0 0h24v24H0V0z\" fill=\"none\"/>\n",
              "    <path d=\"M18.56 5.44l.94 2.06.94-2.06 2.06-.94-2.06-.94-.94-2.06-.94 2.06-2.06.94zm-11 1L8.5 8.5l.94-2.06 2.06-.94-2.06-.94L8.5 2.5l-.94 2.06-2.06.94zm10 10l.94 2.06.94-2.06 2.06-.94-2.06-.94-.94-2.06-.94 2.06-2.06.94z\"/><path d=\"M17.41 7.96l-1.37-1.37c-.4-.4-.92-.59-1.43-.59-.52 0-1.04.2-1.43.59L10.3 9.45l-7.72 7.72c-.78.78-.78 2.05 0 2.83L4 21.41c.39.39.9.59 1.41.59.51 0 1.02-.2 1.41-.59l7.78-7.78 2.81-2.81c.8-.78.8-2.07 0-2.86zM5.41 20L4 18.59l7.72-7.72 1.47 1.35L5.41 20z\"/>\n",
              "  </svg>\n",
              "      </button>\n",
              "      \n",
              "  <style>\n",
              "    .colab-df-container {\n",
              "      display:flex;\n",
              "      flex-wrap:wrap;\n",
              "      gap: 12px;\n",
              "    }\n",
              "\n",
              "    .colab-df-convert {\n",
              "      background-color: #E8F0FE;\n",
              "      border: none;\n",
              "      border-radius: 50%;\n",
              "      cursor: pointer;\n",
              "      display: none;\n",
              "      fill: #1967D2;\n",
              "      height: 32px;\n",
              "      padding: 0 0 0 0;\n",
              "      width: 32px;\n",
              "    }\n",
              "\n",
              "    .colab-df-convert:hover {\n",
              "      background-color: #E2EBFA;\n",
              "      box-shadow: 0px 1px 2px rgba(60, 64, 67, 0.3), 0px 1px 3px 1px rgba(60, 64, 67, 0.15);\n",
              "      fill: #174EA6;\n",
              "    }\n",
              "\n",
              "    [theme=dark] .colab-df-convert {\n",
              "      background-color: #3B4455;\n",
              "      fill: #D2E3FC;\n",
              "    }\n",
              "\n",
              "    [theme=dark] .colab-df-convert:hover {\n",
              "      background-color: #434B5C;\n",
              "      box-shadow: 0px 1px 3px 1px rgba(0, 0, 0, 0.15);\n",
              "      filter: drop-shadow(0px 1px 2px rgba(0, 0, 0, 0.3));\n",
              "      fill: #FFFFFF;\n",
              "    }\n",
              "  </style>\n",
              "\n",
              "      <script>\n",
              "        const buttonEl =\n",
              "          document.querySelector('#df-012ea3c7-be3f-42f1-8dcf-dc08451f3f1f button.colab-df-convert');\n",
              "        buttonEl.style.display =\n",
              "          google.colab.kernel.accessAllowed ? 'block' : 'none';\n",
              "\n",
              "        async function convertToInteractive(key) {\n",
              "          const element = document.querySelector('#df-012ea3c7-be3f-42f1-8dcf-dc08451f3f1f');\n",
              "          const dataTable =\n",
              "            await google.colab.kernel.invokeFunction('convertToInteractive',\n",
              "                                                     [key], {});\n",
              "          if (!dataTable) return;\n",
              "\n",
              "          const docLinkHtml = 'Like what you see? Visit the ' +\n",
              "            '<a target=\"_blank\" href=https://colab.research.google.com/notebooks/data_table.ipynb>data table notebook</a>'\n",
              "            + ' to learn more about interactive tables.';\n",
              "          element.innerHTML = '';\n",
              "          dataTable['output_type'] = 'display_data';\n",
              "          await google.colab.output.renderOutput(dataTable, element);\n",
              "          const docLink = document.createElement('div');\n",
              "          docLink.innerHTML = docLinkHtml;\n",
              "          element.appendChild(docLink);\n",
              "        }\n",
              "      </script>\n",
              "    </div>\n",
              "  </div>\n",
              "  "
            ]
          },
          "metadata": {},
          "execution_count": 156
        }
      ]
    },
    {
      "cell_type": "code",
      "source": [
        "import nltk\n",
        "nltk.download('averaged_perceptron_tagger')\n",
        "\n",
        "from nltk import word_tokenize\n",
        "from collections import Counter\n",
        "\n",
        "def count_pos(sentence, pos):\n",
        "  tokens = nltk.word_tokenize(sentence.lower())\n",
        "  text = nltk.Text(tokens)\n",
        "  tags = nltk.pos_tag(text)\n",
        "  \n",
        "  counts = Counter(tag for word,tag in tags)\n",
        "  \n",
        "  return counts[pos]"
      ],
      "metadata": {
        "colab": {
          "base_uri": "https://localhost:8080/"
        },
        "id": "bxJhKTbFzHNl",
        "outputId": "03aa3b4a-6b30-4b6c-f4be-b3a278c18f64"
      },
      "execution_count": null,
      "outputs": [
        {
          "output_type": "stream",
          "name": "stdout",
          "text": [
            "[nltk_data] Downloading package averaged_perceptron_tagger to\n",
            "[nltk_data]     /root/nltk_data...\n",
            "[nltk_data]   Package averaged_perceptron_tagger is already up-to-\n",
            "[nltk_data]       date!\n"
          ]
        }
      ]
    },
    {
      "cell_type": "code",
      "source": [
        "X['numnouns'] = X['text'].apply(count_pos, pos='NN')\n",
        "X['numverbs'] = X['text'].apply(count_pos, pos='VB')\n",
        "X.head()"
      ],
      "metadata": {
        "colab": {
          "base_uri": "https://localhost:8080/",
          "height": 206
        },
        "id": "wmJiGL9R3UEF",
        "outputId": "35016d98-167d-4a67-e949-149f8a8a41f2"
      },
      "execution_count": null,
      "outputs": [
        {
          "output_type": "execute_result",
          "data": {
            "text/plain": [
              "                                                text  labels  numwords  \\\n",
              "0    hi i want change my address from my credit card      38        10   \n",
              "1  i need 4 fruit maple oatmeal 3 cold brew froze...      22        11   \n",
              "2        i wish to travel next month domestic airway       0         8   \n",
              "3                   i need reimbursement my expenses      11         5   \n",
              "4              i need a copy of insurance for my car      15         9   \n",
              "\n",
              "   numnouns  numverbs  \n",
              "0         6         0  \n",
              "1         4         0  \n",
              "2         2         1  \n",
              "3         0         0  \n",
              "4         3         0  "
            ],
            "text/html": [
              "\n",
              "  <div id=\"df-227999c3-eec1-40a8-bdc8-8da8d66ca431\">\n",
              "    <div class=\"colab-df-container\">\n",
              "      <div>\n",
              "<style scoped>\n",
              "    .dataframe tbody tr th:only-of-type {\n",
              "        vertical-align: middle;\n",
              "    }\n",
              "\n",
              "    .dataframe tbody tr th {\n",
              "        vertical-align: top;\n",
              "    }\n",
              "\n",
              "    .dataframe thead th {\n",
              "        text-align: right;\n",
              "    }\n",
              "</style>\n",
              "<table border=\"1\" class=\"dataframe\">\n",
              "  <thead>\n",
              "    <tr style=\"text-align: right;\">\n",
              "      <th></th>\n",
              "      <th>text</th>\n",
              "      <th>labels</th>\n",
              "      <th>numwords</th>\n",
              "      <th>numnouns</th>\n",
              "      <th>numverbs</th>\n",
              "    </tr>\n",
              "  </thead>\n",
              "  <tbody>\n",
              "    <tr>\n",
              "      <th>0</th>\n",
              "      <td>hi i want change my address from my credit card</td>\n",
              "      <td>38</td>\n",
              "      <td>10</td>\n",
              "      <td>6</td>\n",
              "      <td>0</td>\n",
              "    </tr>\n",
              "    <tr>\n",
              "      <th>1</th>\n",
              "      <td>i need 4 fruit maple oatmeal 3 cold brew froze...</td>\n",
              "      <td>22</td>\n",
              "      <td>11</td>\n",
              "      <td>4</td>\n",
              "      <td>0</td>\n",
              "    </tr>\n",
              "    <tr>\n",
              "      <th>2</th>\n",
              "      <td>i wish to travel next month domestic airway</td>\n",
              "      <td>0</td>\n",
              "      <td>8</td>\n",
              "      <td>2</td>\n",
              "      <td>1</td>\n",
              "    </tr>\n",
              "    <tr>\n",
              "      <th>3</th>\n",
              "      <td>i need reimbursement my expenses</td>\n",
              "      <td>11</td>\n",
              "      <td>5</td>\n",
              "      <td>0</td>\n",
              "      <td>0</td>\n",
              "    </tr>\n",
              "    <tr>\n",
              "      <th>4</th>\n",
              "      <td>i need a copy of insurance for my car</td>\n",
              "      <td>15</td>\n",
              "      <td>9</td>\n",
              "      <td>3</td>\n",
              "      <td>0</td>\n",
              "    </tr>\n",
              "  </tbody>\n",
              "</table>\n",
              "</div>\n",
              "      <button class=\"colab-df-convert\" onclick=\"convertToInteractive('df-227999c3-eec1-40a8-bdc8-8da8d66ca431')\"\n",
              "              title=\"Convert this dataframe to an interactive table.\"\n",
              "              style=\"display:none;\">\n",
              "        \n",
              "  <svg xmlns=\"http://www.w3.org/2000/svg\" height=\"24px\"viewBox=\"0 0 24 24\"\n",
              "       width=\"24px\">\n",
              "    <path d=\"M0 0h24v24H0V0z\" fill=\"none\"/>\n",
              "    <path d=\"M18.56 5.44l.94 2.06.94-2.06 2.06-.94-2.06-.94-.94-2.06-.94 2.06-2.06.94zm-11 1L8.5 8.5l.94-2.06 2.06-.94-2.06-.94L8.5 2.5l-.94 2.06-2.06.94zm10 10l.94 2.06.94-2.06 2.06-.94-2.06-.94-.94-2.06-.94 2.06-2.06.94z\"/><path d=\"M17.41 7.96l-1.37-1.37c-.4-.4-.92-.59-1.43-.59-.52 0-1.04.2-1.43.59L10.3 9.45l-7.72 7.72c-.78.78-.78 2.05 0 2.83L4 21.41c.39.39.9.59 1.41.59.51 0 1.02-.2 1.41-.59l7.78-7.78 2.81-2.81c.8-.78.8-2.07 0-2.86zM5.41 20L4 18.59l7.72-7.72 1.47 1.35L5.41 20z\"/>\n",
              "  </svg>\n",
              "      </button>\n",
              "      \n",
              "  <style>\n",
              "    .colab-df-container {\n",
              "      display:flex;\n",
              "      flex-wrap:wrap;\n",
              "      gap: 12px;\n",
              "    }\n",
              "\n",
              "    .colab-df-convert {\n",
              "      background-color: #E8F0FE;\n",
              "      border: none;\n",
              "      border-radius: 50%;\n",
              "      cursor: pointer;\n",
              "      display: none;\n",
              "      fill: #1967D2;\n",
              "      height: 32px;\n",
              "      padding: 0 0 0 0;\n",
              "      width: 32px;\n",
              "    }\n",
              "\n",
              "    .colab-df-convert:hover {\n",
              "      background-color: #E2EBFA;\n",
              "      box-shadow: 0px 1px 2px rgba(60, 64, 67, 0.3), 0px 1px 3px 1px rgba(60, 64, 67, 0.15);\n",
              "      fill: #174EA6;\n",
              "    }\n",
              "\n",
              "    [theme=dark] .colab-df-convert {\n",
              "      background-color: #3B4455;\n",
              "      fill: #D2E3FC;\n",
              "    }\n",
              "\n",
              "    [theme=dark] .colab-df-convert:hover {\n",
              "      background-color: #434B5C;\n",
              "      box-shadow: 0px 1px 3px 1px rgba(0, 0, 0, 0.15);\n",
              "      filter: drop-shadow(0px 1px 2px rgba(0, 0, 0, 0.3));\n",
              "      fill: #FFFFFF;\n",
              "    }\n",
              "  </style>\n",
              "\n",
              "      <script>\n",
              "        const buttonEl =\n",
              "          document.querySelector('#df-227999c3-eec1-40a8-bdc8-8da8d66ca431 button.colab-df-convert');\n",
              "        buttonEl.style.display =\n",
              "          google.colab.kernel.accessAllowed ? 'block' : 'none';\n",
              "\n",
              "        async function convertToInteractive(key) {\n",
              "          const element = document.querySelector('#df-227999c3-eec1-40a8-bdc8-8da8d66ca431');\n",
              "          const dataTable =\n",
              "            await google.colab.kernel.invokeFunction('convertToInteractive',\n",
              "                                                     [key], {});\n",
              "          if (!dataTable) return;\n",
              "\n",
              "          const docLinkHtml = 'Like what you see? Visit the ' +\n",
              "            '<a target=\"_blank\" href=https://colab.research.google.com/notebooks/data_table.ipynb>data table notebook</a>'\n",
              "            + ' to learn more about interactive tables.';\n",
              "          element.innerHTML = '';\n",
              "          dataTable['output_type'] = 'display_data';\n",
              "          await google.colab.output.renderOutput(dataTable, element);\n",
              "          const docLink = document.createElement('div');\n",
              "          docLink.innerHTML = docLinkHtml;\n",
              "          element.appendChild(docLink);\n",
              "        }\n",
              "      </script>\n",
              "    </div>\n",
              "  </div>\n",
              "  "
            ]
          },
          "metadata": {},
          "execution_count": 158
        }
      ]
    },
    {
      "cell_type": "code",
      "source": [
        "from sentence_transformers import SentenceTransformer, LoggingHandler\n",
        "\n",
        "embedder = SentenceTransformer(model_name_or_path=\"all-mpnet-base-v2\")\n",
        "X_embeddings = embedder.encode(X_train_preprocessed, convert_to_numpy=True)\n",
        "X_embeddings"
      ],
      "metadata": {
        "colab": {
          "base_uri": "https://localhost:8080/"
        },
        "id": "jwAdKtYBWjHF",
        "outputId": "f5650076-fe41-477d-eb56-4124d09bd3ab"
      },
      "execution_count": null,
      "outputs": [
        {
          "output_type": "execute_result",
          "data": {
            "text/plain": [
              "array([[ 0.01708131,  0.00429738, -0.00949069, ..., -0.00591535,\n",
              "        -0.03251501, -0.02012291],\n",
              "       [ 0.03394511,  0.00526158, -0.00652598, ...,  0.00122312,\n",
              "        -0.0452776 , -0.00291192],\n",
              "       [-0.01984095,  0.03872086, -0.06238953, ...,  0.00311904,\n",
              "        -0.0303625 , -0.06571841],\n",
              "       ...,\n",
              "       [ 0.01027327,  0.00603517,  0.0131581 , ..., -0.03300791,\n",
              "        -0.02640153, -0.04824821],\n",
              "       [ 0.01849916,  0.08243959,  0.01891929, ..., -0.00298032,\n",
              "        -0.0524097 , -0.05037639],\n",
              "       [ 0.00856035,  0.00793542, -0.03947367, ...,  0.01754491,\n",
              "        -0.00879176,  0.0044192 ]], dtype=float32)"
            ]
          },
          "metadata": {},
          "execution_count": 26
        }
      ]
    },
    {
      "cell_type": "code",
      "source": [
        "X_embeddings.shape"
      ],
      "metadata": {
        "colab": {
          "base_uri": "https://localhost:8080/"
        },
        "id": "tgcFBuQP-6wu",
        "outputId": "8b98e1cc-164c-4b0c-f84b-b87bf66a4d69"
      },
      "execution_count": null,
      "outputs": [
        {
          "output_type": "execute_result",
          "data": {
            "text/plain": [
              "(11623, 768)"
            ]
          },
          "metadata": {},
          "execution_count": 27
        }
      ]
    },
    {
      "cell_type": "markdown",
      "source": [
        "## Split Data"
      ],
      "metadata": {
        "id": "AwRRgqRTXEAO"
      }
    },
    {
      "cell_type": "code",
      "source": [
        "# without metadata\n",
        "from sklearn.model_selection import train_test_split\n",
        "\n",
        "X_train, X_val, y_train, y_val = train_test_split(X_embeddings, y, test_size=0.2, random_state=42)\n",
        "\n",
        "print(X_train.shape)\n",
        "print(X_val.shape)"
      ],
      "metadata": {
        "colab": {
          "base_uri": "https://localhost:8080/"
        },
        "id": "ykKxA_n7W9Gl",
        "outputId": "c84841a3-d7cd-43c6-a58f-0d4b6591e018"
      },
      "execution_count": null,
      "outputs": [
        {
          "output_type": "stream",
          "name": "stdout",
          "text": [
            "(9298, 768)\n",
            "(2325, 768)\n"
          ]
        }
      ]
    },
    {
      "cell_type": "code",
      "source": [
        "import numpy as np\n",
        "X_embeddings_metadata = np.concatenate((X_embeddings, np.array(X[['numwords', 'numnouns', 'numverbs']].values)), axis=1)"
      ],
      "metadata": {
        "id": "y_CNTC69_BPZ"
      },
      "execution_count": null,
      "outputs": []
    },
    {
      "cell_type": "code",
      "source": [
        "# with metadata\n",
        "from sklearn.model_selection import train_test_split\n",
        "\n",
        "X_train, X_val, y_train, y_val = train_test_split(X_embeddings_metadata, y, test_size=0.2, random_state=42)\n",
        "\n",
        "print(X_train.shape)\n",
        "print(X_val.shape)"
      ],
      "metadata": {
        "colab": {
          "base_uri": "https://localhost:8080/"
        },
        "id": "EKUzfc4L7NWh",
        "outputId": "0be2e4ee-51e7-4079-de68-8afcb4ba8448"
      },
      "execution_count": null,
      "outputs": [
        {
          "output_type": "stream",
          "name": "stdout",
          "text": [
            "(9298, 771)\n",
            "(2325, 771)\n"
          ]
        }
      ]
    },
    {
      "cell_type": "markdown",
      "source": [
        "## Train Model"
      ],
      "metadata": {
        "id": "t64zMHxUX0Bf"
      }
    },
    {
      "cell_type": "code",
      "source": [
        "from lightgbm import LGBMClassifier\n",
        "lgbm_clf = LGBMClassifier(random_state=42)\n",
        "lgbm_clf.fit(X_train, y_train)"
      ],
      "metadata": {
        "id": "-6iO--_XX2Rr",
        "colab": {
          "base_uri": "https://localhost:8080/"
        },
        "outputId": "4333da57-bd20-4f2b-b388-46f5114dfd30"
      },
      "execution_count": null,
      "outputs": [
        {
          "output_type": "execute_result",
          "data": {
            "text/plain": [
              "LGBMClassifier(random_state=42)"
            ]
          },
          "metadata": {},
          "execution_count": 29
        }
      ]
    },
    {
      "cell_type": "markdown",
      "source": [
        "## Cross-validation"
      ],
      "metadata": {
        "id": "VLQBwKSnbVIO"
      }
    },
    {
      "cell_type": "code",
      "source": [
        "from lightgbm import LGBMClassifier\n",
        "from sklearn.model_selection import cross_val_score\n",
        "\n",
        "lgbm_clf = LGBMClassifier(random_state=42)\n",
        "ami_scores = cross_val_score(lgbm_clf, X_train, y_train, scoring='adjusted_mutual_info_score', cv=5)\n",
        "\n",
        "# Calculate mean and standard deviation of scores\n",
        "avg_ami = ami_scores.mean()\n",
        "stddev_ami = ami_scores.std()\n",
        "\n",
        "# Print results\n",
        "print(\"Scores:\", [round(score, 4) for score in ami_scores])\n",
        "print(f\"Mean score: {round(avg_ami, 4)}\")\n",
        "print(f\"+/-2 std. dev. range within mean: ({avg_ami - 2*stddev_ami:.4f}, {avg_ami + 2*stddev_ami:.4f})\")"
      ],
      "metadata": {
        "id": "mspDpn1ebT22"
      },
      "execution_count": null,
      "outputs": []
    },
    {
      "cell_type": "markdown",
      "source": [
        "## Evaluate model"
      ],
      "metadata": {
        "id": "V97-FuXWcbBd"
      }
    },
    {
      "cell_type": "code",
      "source": [
        "# lgbm_clf.fit(X_train, y_train)\n",
        "y_val_pred = lgbm_clf.predict(X_val)\n",
        "y_pred_original = labelEncoder.inverse_transform(y_val_pred.astype('int32'))"
      ],
      "metadata": {
        "id": "RmRQGGWpcc0d"
      },
      "execution_count": null,
      "outputs": []
    },
    {
      "cell_type": "code",
      "source": [
        "y_val_original = labelEncoder.inverse_transform(y_val.astype('int32'))"
      ],
      "metadata": {
        "id": "4M2LOtTTjiGU"
      },
      "execution_count": null,
      "outputs": []
    },
    {
      "cell_type": "code",
      "source": [
        "from sklearn.metrics import confusion_matrix, classification_report\n",
        "\n",
        "print(confusion_matrix(y_val_original, y_pred_original))\n",
        "print(classification_report(y_val_original, y_pred_original))"
      ],
      "metadata": {
        "colab": {
          "base_uri": "https://localhost:8080/"
        },
        "id": "iZz5EtRgf-bi",
        "outputId": "af66dc1e-3fd7-4a0f-9595-ebf402438360"
      },
      "execution_count": null,
      "outputs": [
        {
          "output_type": "stream",
          "name": "stdout",
          "text": [
            "[[ 0  0  0 ...  0  0  0]\n",
            " [ 0  0  0 ...  0  0  0]\n",
            " [ 0  0  0 ...  1  0  0]\n",
            " ...\n",
            " [ 0  0  0 ... 35  0  0]\n",
            " [ 0  0  0 ...  2  0  0]\n",
            " [ 0  0  0 ...  3  0  0]]\n",
            "                       precision    recall  f1-score   support\n",
            "\n",
            "           bookflight       0.00      0.00      0.00        42\n",
            "          changeorder       0.00      0.00      0.00         5\n",
            " changeseatassignment       0.00      0.00      0.00        57\n",
            "         checkbalance       1.00      0.62      0.77        50\n",
            "     checkclaimstatus       0.14      0.01      0.02        90\n",
            "checkoffereligibility       0.00      0.00      0.00         6\n",
            "    checkserverstatus       0.00      0.00      0.00        30\n",
            "         closeaccount       0.00      0.00      0.00        20\n",
            "        disputecharge       0.18      0.12      0.14        42\n",
            "        expensereport       0.00      0.00      0.00        77\n",
            "      getboardingpass       1.00      0.03      0.05       114\n",
            " getinformationintent       0.00      0.00      0.00        32\n",
            "        getpromotions       0.00      0.00      0.00         3\n",
            "  getproofofinsurance       1.00      0.15      0.26       192\n",
            "     getroutingnumber       0.00      0.00      0.00        14\n",
            "          getseatinfo       0.12      0.51      0.20       183\n",
            " orderbreakfastintent       0.00      0.00      0.00         6\n",
            "    orderburgerintent       0.00      0.00      0.00        59\n",
            "          orderchecks       0.00      0.00      0.00         8\n",
            "   orderdessertintent       0.00      0.00      0.00        59\n",
            "     orderdrinkintent       0.00      0.00      0.00       151\n",
            "      orderfoodintent       0.00      0.00      0.00         1\n",
            "     orderpizzaintent       0.20      0.89      0.32       201\n",
            "     ordersaladintent       0.00      0.00      0.00        52\n",
            "      ordersideintent       0.00      0.00      0.00        24\n",
            "       providereceipt       0.00      0.00      0.00         1\n",
            "          replacecard       0.00      0.00      0.00        15\n",
            "    reportbrokenphone       0.00      0.00      0.00        69\n",
            " reportbrokensoftware       0.00      0.00      0.00        69\n",
            "       reportlostcard       0.29      0.05      0.09        73\n",
            "       softwareupdate       0.00      0.00      0.00        55\n",
            "           startorder       0.00      0.00      0.00        58\n",
            "   startserviceintent       0.38      0.15      0.21       330\n",
            "            stoporder       0.00      0.00      0.00         3\n",
            "        transfermoney       1.00      0.19      0.31        43\n",
            "        updateaddress       0.14      0.51      0.22        69\n",
            " upgradeserviceintent       0.00      0.00      0.00         5\n",
            "      viewbillsintent       0.00      0.00      0.00        17\n",
            "\n",
            "             accuracy                           0.19      2325\n",
            "            macro avg       0.14      0.08      0.07      2325\n",
            "         weighted avg       0.27      0.19      0.13      2325\n",
            "\n"
          ]
        },
        {
          "output_type": "stream",
          "name": "stderr",
          "text": [
            "/usr/local/lib/python3.7/dist-packages/sklearn/metrics/_classification.py:1318: UndefinedMetricWarning: Precision and F-score are ill-defined and being set to 0.0 in labels with no predicted samples. Use `zero_division` parameter to control this behavior.\n",
            "  _warn_prf(average, modifier, msg_start, len(result))\n",
            "/usr/local/lib/python3.7/dist-packages/sklearn/metrics/_classification.py:1318: UndefinedMetricWarning: Precision and F-score are ill-defined and being set to 0.0 in labels with no predicted samples. Use `zero_division` parameter to control this behavior.\n",
            "  _warn_prf(average, modifier, msg_start, len(result))\n",
            "/usr/local/lib/python3.7/dist-packages/sklearn/metrics/_classification.py:1318: UndefinedMetricWarning: Precision and F-score are ill-defined and being set to 0.0 in labels with no predicted samples. Use `zero_division` parameter to control this behavior.\n",
            "  _warn_prf(average, modifier, msg_start, len(result))\n"
          ]
        }
      ]
    },
    {
      "cell_type": "code",
      "source": [
        "from sklearn.metrics.cluster import adjusted_rand_score, adjusted_mutual_info_score\n",
        "\n",
        "ari = adjusted_rand_score(y_val_original, y_pred_original)\n",
        "ami = adjusted_mutual_info_score(y_val_original, y_pred_original, average_method='arithmetic')\n",
        "\n",
        "print(\"ARI: {}\".format(ari))\n",
        "print(\"AMI: {}\".format(ami))"
      ],
      "metadata": {
        "colab": {
          "base_uri": "https://localhost:8080/"
        },
        "id": "wmpgmkY9cGIE",
        "outputId": "215feced-a519-451d-80c5-b6fae1f14123"
      },
      "execution_count": null,
      "outputs": [
        {
          "output_type": "stream",
          "name": "stdout",
          "text": [
            "ARI: 0.046535226129111484\n",
            "AMI: 0.22931865195483248\n"
          ]
        }
      ]
    },
    {
      "cell_type": "markdown",
      "source": [
        "## Predict on test data for submission"
      ],
      "metadata": {
        "id": "7R_5deYWhdXv"
      }
    },
    {
      "cell_type": "code",
      "source": [
        "X_test = df_test['message'].rename('text')\n",
        "\n",
        "X_test_embeddings = embedder.encode(X_test, convert_to_numpy=True)\n",
        "df_test['numwords'] = df_test['message'].apply(lambda x: len(x.split()))\n",
        "df_test['numnouns'] = df_test['message'].apply(count_pos, pos='NN')\n",
        "df_test['numverbs'] = df_test['message'].apply(count_pos, pos='VB')\n",
        "test_embeddings_metadata = np.concatenate((X_test_embeddings, np.array(df_test[['numwords', 'numnouns', 'numverbs']].values)), axis=1)"
      ],
      "metadata": {
        "id": "ECLqG22ghgn9"
      },
      "execution_count": null,
      "outputs": []
    },
    {
      "cell_type": "code",
      "source": [
        "predictions = lgbm_clf.predict(test_embeddings_metadata)"
      ],
      "metadata": {
        "id": "QbjMV7M4BBoG"
      },
      "execution_count": null,
      "outputs": []
    },
    {
      "cell_type": "code",
      "source": [
        "transformed_predictions = labelEncoder.inverse_transform(predictions.astype('int32'))"
      ],
      "metadata": {
        "id": "2CXSp3D5hg31"
      },
      "execution_count": null,
      "outputs": []
    },
    {
      "cell_type": "code",
      "source": [
        "my_submission = pd.DataFrame({'Id': df_test['id'], 'label': transformed_predictions})\n",
        "print(my_submission.head())"
      ],
      "metadata": {
        "colab": {
          "base_uri": "https://localhost:8080/"
        },
        "id": "7V9nBMCUkpTk",
        "outputId": "5be21dd1-5595-4a81-fc5c-e53bdf516ee6"
      },
      "execution_count": null,
      "outputs": [
        {
          "output_type": "stream",
          "name": "stdout",
          "text": [
            "      Id                 label\n",
            "0  12123  reportbrokensoftware\n",
            "1    244      orderpizzaintent\n",
            "2   8221           replacecard\n",
            "3  12856    startserviceintent\n",
            "4  12108         expensereport\n"
          ]
        }
      ]
    },
    {
      "cell_type": "code",
      "source": [
        "compression_opts = dict(method='zip', archive_name='coda_submission.csv')\n",
        "my_submission.to_csv('metadatahybrid_coda_submission.zip', index=False, compression=compression_opts)"
      ],
      "metadata": {
        "id": "RzecFWoVks3d"
      },
      "execution_count": null,
      "outputs": []
    }
  ]
}